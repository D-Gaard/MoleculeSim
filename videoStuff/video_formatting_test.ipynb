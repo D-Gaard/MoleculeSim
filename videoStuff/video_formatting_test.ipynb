{
 "cells": [
  {
   "cell_type": "markdown",
   "metadata": {},
   "source": [
    "<h1> Notebook meant for formatting/extracting frame from video</h1>"
   ]
  },
  {
   "cell_type": "code",
   "execution_count": 1,
   "metadata": {},
   "outputs": [
    {
     "name": "stdout",
     "output_type": "stream",
     "text": [
      "C:\\Users\\DGaard\\Desktop\\Gits\\MoleculeSim\\Data\\frames\\frame10.jpg\n",
      "C:\\Users\\DGaard\\Desktop\\Gits\\MoleculeSim\\Data\\frames\n",
      "C:\\Users\\DGaard\\Desktop\\Gits\\MoleculeSim\\Data\\cheese_gel.avi\n"
     ]
    }
   ],
   "source": [
    "# IMPORTS\n",
    "import cv2\n",
    "import os\n",
    "import matplotlib.pyplot as plt\n",
    "import video_format as vf\n",
    "\n",
    "data_folder = r\"C:\\Users\\DGaard\\Desktop\\Gits\\MoleculeSim\\Data\\\\\"\n",
    "video_name = \"cheese_gel.avi\"\n",
    "video_path = os.path.join(os.path.dirname(data_folder), video_name)\n",
    "frame_folder = r\"C:\\Users\\DGaard\\Desktop\\Gits\\MoleculeSim\\Data\\frames\\\\\"\n",
    "frame_path = os.path.dirname(frame_folder)\n",
    "\n",
    "print(os.path.join(frame_path,\"frame10.jpg\"))\n",
    "print(frame_path)\n",
    "print(video_path)"
   ]
  },
  {
   "cell_type": "code",
   "execution_count": 2,
   "metadata": {},
   "outputs": [
    {
     "data": {
      "text/plain": [
       "array([[  0,   3,  34, ...,   1,   1,   1],\n",
       "       [ 10,  48,  93, ...,   0,   0,   0],\n",
       "       [ 39,  94, 140, ...,  59,  57,  55],\n",
       "       ...,\n",
       "       [  0,   0,   0, ...,   0,   0,   0],\n",
       "       [  0,   0,   8, ...,   0,   0,   0],\n",
       "       [  9,  19,  41, ...,   0,   0,   0]], dtype=uint8)"
      ]
     },
     "execution_count": 2,
     "metadata": {},
     "output_type": "execute_result"
    }
   ],
   "source": [
    "vf.save_img(21)\n",
    "vf.get_frame(21)"
   ]
  },
  {
   "cell_type": "code",
   "execution_count": 3,
   "metadata": {},
   "outputs": [
    {
     "data": {
      "text/plain": [
       "[array([[ 6,  0,  0, ...,  5,  4,  0],\n",
       "        [ 0,  0,  5, ...,  0,  0,  0],\n",
       "        [ 0,  9, 31, ..., 68, 65, 66],\n",
       "        ...,\n",
       "        [ 0,  0,  0, ...,  0,  0,  0],\n",
       "        [ 3,  0,  0, ...,  0,  0,  2],\n",
       "        [ 3,  0,  0, ...,  3,  6, 11]], dtype=uint8),\n",
       " array([[ 0,  0,  2, ...,  1,  3,  1],\n",
       "        [ 3,  8, 15, ...,  2,  0,  0],\n",
       "        [34, 45, 56, ..., 51, 39, 24],\n",
       "        ...,\n",
       "        [ 0,  0,  0, ...,  0,  0,  0],\n",
       "        [ 4,  0,  0, ...,  2,  3,  2],\n",
       "        [ 4,  1,  6, ...,  2,  3,  2]], dtype=uint8),\n",
       " array([[ 2,  0,  0, ...,  0,  0,  0],\n",
       "        [ 0,  9, 39, ...,  0,  0,  2],\n",
       "        [29, 53, 92, ..., 44, 48, 49],\n",
       "        ...,\n",
       "        [ 0,  0,  0, ...,  0,  0,  0],\n",
       "        [ 0,  0,  0, ...,  0,  0,  0],\n",
       "        [ 0,  0,  0, ...,  0,  0,  0]], dtype=uint8)]"
      ]
     },
     "execution_count": 3,
     "metadata": {},
     "output_type": "execute_result"
    }
   ],
   "source": [
    "vf.get_frames([1,2,3])"
   ]
  }
 ],
 "metadata": {
  "kernelspec": {
   "display_name": "ost3",
   "language": "python",
   "name": "python3"
  },
  "language_info": {
   "codemirror_mode": {
    "name": "ipython",
    "version": 3
   },
   "file_extension": ".py",
   "mimetype": "text/x-python",
   "name": "python",
   "nbconvert_exporter": "python",
   "pygments_lexer": "ipython3",
   "version": "3.10.13"
  }
 },
 "nbformat": 4,
 "nbformat_minor": 2
}
