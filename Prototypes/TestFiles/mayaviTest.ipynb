{
 "cells": [
  {
   "cell_type": "code",
   "execution_count": 1,
   "metadata": {},
   "outputs": [
    {
     "name": "stdout",
     "output_type": "stream",
     "text": [
      "********************************************************************************\n",
      "WARNING: Imported VTK version (9.3) does not match the one used\n",
      "         to build the TVTK classes (9.2). This may cause problems.\n",
      "         Please rebuild TVTK.\n",
      "********************************************************************************\n",
      "\n"
     ]
    }
   ],
   "source": [
    "from mayavi import mlab\n",
    "import numpy as np\n",
    "\n",
    "#interactive notebook\n",
    "iteractive = False\n",
    "\n",
    "if iteractive:\n",
    "  %gui qt\n",
    "  mlab.init_notebook()"
   ]
  },
  {
   "cell_type": "code",
   "execution_count": 2,
   "metadata": {},
   "outputs": [],
   "source": [
    "#mlab.test_plot3d()\n",
    "#mlab.show()"
   ]
  },
  {
   "cell_type": "code",
   "execution_count": 2,
   "metadata": {},
   "outputs": [
    {
     "data": {
      "text/plain": [
       "<mayavi.modules.axes.Axes at 0x282603afc90>"
      ]
     },
     "execution_count": 2,
     "metadata": {},
     "output_type": "execute_result"
    },
    {
     "ename": "",
     "evalue": "",
     "output_type": "error",
     "traceback": [
      "\u001b[1;31mThe Kernel crashed while executing code in the the current cell or a previous cell. Please review the code in the cell(s) to identify a possible cause of the failure. Click <a href='https://aka.ms/vscodeJupyterKernelCrash'>here</a> for more info. View Jupyter <a href='command:jupyter.viewOutput'>log</a> for further details."
     ]
    }
   ],
   "source": [
    "\n",
    "#mlab.clf()\n",
    "sphere = mlab.figure(\"spheres\")\n",
    "mlab.points3d(100,100,100,scale_factor=20, resolution=50,figure=sphere)\n",
    "#mlab.points3d(20,20,20,scale_factor=30, resolution=50,figure=sphere)\n",
    "mlab.points3d(100,100,100,scale_factor=20, resolution=50, mode='cube',figure=sphere,opacity=0.5)\n",
    "\n",
    "mlab.axes()\n",
    "#mlab.show()"
   ]
  },
  {
   "cell_type": "code",
   "execution_count": 4,
   "metadata": {},
   "outputs": [
    {
     "ename": "TypeError",
     "evalue": "draw_sphere() missing 6 required positional arguments: 'center_coordinates', 'radius', 'figure_title', 'color', 'background', and 'foreground'",
     "output_type": "error",
     "traceback": [
      "\u001b[1;31m---------------------------------------------------------------------------\u001b[0m",
      "\u001b[1;31mTypeError\u001b[0m                                 Traceback (most recent call last)",
      "Cell \u001b[1;32mIn[4], line 23\u001b[0m\n\u001b[0;32m     11\u001b[0m     sphere\u001b[38;5;241m.\u001b[39mscene\u001b[38;5;241m.\u001b[39mforeground \u001b[38;5;241m=\u001b[39m foreground\n\u001b[0;32m     13\u001b[0m     mlab\u001b[38;5;241m.\u001b[39mpoints3d(\n\u001b[0;32m     14\u001b[0m         center_coordinates[\u001b[38;5;241m0\u001b[39m],\n\u001b[0;32m     15\u001b[0m         center_coordinates[\u001b[38;5;241m1\u001b[39m],\n\u001b[1;32m   (...)\u001b[0m\n\u001b[0;32m     20\u001b[0m         figure\u001b[38;5;241m=\u001b[39msphere\n\u001b[0;32m     21\u001b[0m     )\n\u001b[1;32m---> 23\u001b[0m \u001b[43mdraw_sphere\u001b[49m\u001b[43m(\u001b[49m\u001b[43m)\u001b[49m\n",
      "\u001b[1;31mTypeError\u001b[0m: draw_sphere() missing 6 required positional arguments: 'center_coordinates', 'radius', 'figure_title', 'color', 'background', and 'foreground'"
     ]
    }
   ],
   "source": [
    "def draw_sphere(\n",
    "        center_coordinates,\n",
    "        radius,\n",
    "        figure_title,\n",
    "        color,\n",
    "        background,\n",
    "        foreground\n",
    "):\n",
    "    sphere = mlab.figure(figure_title)\n",
    "    sphere.scene.background = background\n",
    "    sphere.scene.foreground = foreground\n",
    "\n",
    "    mlab.points3d(\n",
    "        center_coordinates[0],\n",
    "        center_coordinates[1],\n",
    "        center_coordinates[2],\n",
    "        color=color,\n",
    "        resolution=256,\n",
    "        scale_factor=2*radius,\n",
    "        figure=sphere\n",
    "    )\n",
    "\n",
    "draw_sphere()"
   ]
  },
  {
   "cell_type": "code",
   "execution_count": null,
   "metadata": {},
   "outputs": [],
   "source": [
    "import random\n",
    "from itertools import product\n",
    "\n",
    "from mayavi import mlab\n",
    "import numpy as np\n",
    "\n",
    "[phi, theta] = np.mgrid[0:2 * np.pi:12j, 0:np.pi:12j]\n",
    "x = np.cos(phi) * np.sin(theta)\n",
    "y = np.sin(phi) * np.sin(theta)\n",
    "z = np.cos(theta)\n",
    "\n",
    "\n",
    "def plot_sphere(x_0, y_0, z_0):\n",
    "    r = 0.5\n",
    "    return mlab.mesh(r * x + x_0, r * y + y_0, r * z + z_0)\n",
    "\n",
    "SPHERES_NUMBER = 1000\n",
    "\n",
    "CUBE_SIZE = 10\n",
    "\n",
    "def index_to_3d(i, SIZE):\n",
    "    z = i // (SIZE * SIZE)\n",
    "    i -= (z * SIZE * SIZE)\n",
    "    y = i // SIZE\n",
    "    x = i % SIZE\n",
    "    return x, y, z\n",
    "\n",
    "random_tuples = [index_to_3d(i, CUBE_SIZE) for i in random.sample(range(CUBE_SIZE ** 3), SPHERES_NUMBER)]\n",
    "\n",
    "for k in range(SPHERES_NUMBER):\n",
    "    x_0, y_0, z_0 = random_tuples[k]\n",
    "    plot_sphere(x_0, y_0, z_0)\n",
    "\n",
    "mlab.show()"
   ]
  },
  {
   "cell_type": "code",
   "execution_count": null,
   "metadata": {},
   "outputs": [],
   "source": [
    "x, y = np.mgrid[0:3:1,0:3:1]\n",
    "s = mlab.surf(x, y, np.asarray(x*0.1, 'd'))\n",
    "\n",
    "@mlab.animate\n",
    "def anim():\n",
    "    for i in range(10):\n",
    "        s.mlab_source.scalars = np.asarray(x*0.1*(i+1), 'd')\n",
    "        yield\n",
    "\n",
    "anim()\n",
    "mlab.show()"
   ]
  }
 ],
 "metadata": {
  "kernelspec": {
   "display_name": "base",
   "language": "python",
   "name": "python3"
  },
  "language_info": {
   "codemirror_mode": {
    "name": "ipython",
    "version": 3
   },
   "file_extension": ".py",
   "mimetype": "text/x-python",
   "name": "python",
   "nbconvert_exporter": "python",
   "pygments_lexer": "ipython3",
   "version": "3.10.13"
  }
 },
 "nbformat": 4,
 "nbformat_minor": 2
}
