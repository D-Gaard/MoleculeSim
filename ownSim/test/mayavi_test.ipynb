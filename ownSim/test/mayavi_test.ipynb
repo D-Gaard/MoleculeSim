{
 "cells": [
  {
   "cell_type": "code",
   "execution_count": null,
   "metadata": {},
   "outputs": [],
   "source": [
    "from mayavi import mlab\n",
    "import numpy as np\n",
    "\n",
    "\n",
    "# [phi,theta] = np.mgrid[0:2*np.pi:12j,0:np.pi:12j]\n",
    "# x = np.cos(phi)*np.sin(theta)\n",
    "# y = np.sin(phi)*np.sin(theta)\n",
    "# z = np.cos(theta)\n",
    "\n",
    "\n",
    "# def plot_sphere(p):\n",
    "#     r,a,b,c = p\n",
    "#     r=1\n",
    "#     return mlab.mesh(r*x+a, r*y+b, r*z )  \n",
    "\n",
    "\n",
    "# for k in range(8):\n",
    "#     c = np.random.rand(4)\n",
    "#     c[0] /= 10.\n",
    "#     plot_sphere(c)\n",
    "\n",
    "# mlab.show()\n",
    "\n",
    "# nodes = mlab.points3d(x,y,z)\n"
   ]
  },
  {
   "cell_type": "code",
   "execution_count": null,
   "metadata": {},
   "outputs": [],
   "source": [
    "# Parameters for universe initialization\n",
    "box_const_size = 500\n",
    "box_size = np.array([box_const_size,box_const_size,box_const_size]) #max coordinate values for universe\n",
    "num_molecules = 20\n",
    "num_steps = 20000\n",
    "radius  = 100\n",
    "\n",
    "#other setup\n",
    "seed = 1313\n",
    "\n",
    "# Create Universe\n",
    "molecules = [mc.Molecule(np.array([random.uniform(0,box_size[0]), \n",
    "                    random.uniform(0,box_size[1]), \n",
    "                    random.uniform(0,box_size[2]) ]),radius) for _ in range(num_molecules)]\n",
    "\n",
    "print(len(molecules),molecules[0].pos)\n",
    "\n",
    "uni = mc.SimpleUniverse(molecules,seed)\n"
   ]
  }
 ],
 "metadata": {
  "kernelspec": {
   "display_name": "OST",
   "language": "python",
   "name": "python3"
  },
  "language_info": {
   "codemirror_mode": {
    "name": "ipython",
    "version": 3
   },
   "file_extension": ".py",
   "mimetype": "text/x-python",
   "name": "python",
   "nbconvert_exporter": "python",
   "pygments_lexer": "ipython3",
   "version": "3.10.13"
  }
 },
 "nbformat": 4,
 "nbformat_minor": 2
}
