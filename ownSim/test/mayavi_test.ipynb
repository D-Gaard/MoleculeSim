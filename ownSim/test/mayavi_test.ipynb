{
 "cells": [
  {
   "cell_type": "code",
   "execution_count": null,
   "metadata": {},
   "outputs": [],
   "source": [
    "import mayavi\n",
    "print(mayavi.__version__)"
   ]
  },
  {
   "cell_type": "code",
   "execution_count": null,
   "metadata": {},
   "outputs": [],
   "source": [
    "import traits\n",
    "print(traits.__version__)"
   ]
  },
  {
   "cell_type": "code",
   "execution_count": null,
   "metadata": {},
   "outputs": [],
   "source": [
    "import vtk\n",
    "print(vtk.vtkVersion())"
   ]
  },
  {
   "cell_type": "code",
   "execution_count": null,
   "metadata": {},
   "outputs": [],
   "source": [
    "from mayavi import mlab\n",
    "import numpy as np\n",
    "\n",
    "\n",
    "# [phi,theta] = np.mgrid[0:2*np.pi:12j,0:np.pi:12j]\n",
    "# x = np.cos(phi)*np.sin(theta)\n",
    "# y = np.sin(phi)*np.sin(theta)\n",
    "# z = np.cos(theta)\n",
    "\n",
    "\n",
    "# def plot_sphere(p):\n",
    "#     r,a,b,c = p\n",
    "#     r=1\n",
    "#     return mlab.mesh(r*x+a, r*y+b, r*z )  \n",
    "\n",
    "\n",
    "# for k in range(8):\n",
    "#     c = np.random.rand(4)\n",
    "#     c[0] /= 10.\n",
    "#     plot_sphere(c)\n",
    "\n",
    "# mlab.show()\n",
    "\n",
    "# nodes = mlab.points3d(x,y,z)\n"
   ]
  },
  {
   "cell_type": "code",
   "execution_count": 6,
   "metadata": {},
   "outputs": [],
   "source": [
    "# %gui qt\n",
    "# from mayavi import mlab\n",
    "# import numpy as np\n",
    "# #mlab.init_notebook()\n",
    "# #x, y, z, value = np.random.random((4, 40))\n",
    "# mlab.clf()\n",
    "# #fig = mlab.figure()\n",
    "# x,y,z = np.random.uniform(0,10, 10),np.random.uniform(0,10, 10),np.random.uniform(0,10, 10)\n",
    "\n",
    "# mlab.points3d(x, y, z, color = (1,0,0), scale_factor = 1, resolution = 50)\n",
    "# mlab.points3d(x, y, z, color = (1,0,0), scale_factor = 1, resolution = 50, opacity = 0.1, mode = 'cube')\n",
    "\n",
    "# mlab.axes()\n",
    "# mlab.show()"
   ]
  },
  {
   "cell_type": "code",
   "execution_count": 7,
   "metadata": {},
   "outputs": [],
   "source": [
    "# import numpy as np\n",
    "# from mayavi import mlab\n",
    "\n",
    "# fig = mlab.figure()\n",
    "\n",
    "# radius = 1.0\n",
    "\n",
    "# src = mlab.pipeline.scalar_scatter([0],[0],[0])\n",
    "\n",
    "# theta = np.linspace(0,2*np.pi,100)\n",
    "\n",
    "# x = radius*np.cos(theta)\n",
    "# y = radius*np.sin(theta)\n",
    "\n",
    "# for xi, yi in zip(x,y):\n",
    "#     mlab.text3d(xi,yi,0, text='.', color = (0,0,1), scale =(0.1,0.1,0.1), figure = fig)\n",
    "    \n",
    "#     mlab.view(azimuth=0,elevation=90,distance=5)\n",
    "\n",
    "# mlab.axes()\n",
    "# mlab.show()\n"
   ]
  },
  {
   "cell_type": "code",
   "execution_count": 8,
   "metadata": {},
   "outputs": [],
   "source": [
    "import sys\n",
    "import numpy as np\n",
    "import matplotlib.pyplot as plt\n",
    "sys.path.append(r\"C:\\Users\\EmilR\\Documents\\GitHub\\MoleculeSim\\ownSim\")\n",
    "\n",
    "import forces as fc\n",
    "import molecules as mc\n",
    "import random"
   ]
  },
  {
   "cell_type": "code",
   "execution_count": 9,
   "metadata": {},
   "outputs": [
    {
     "name": "stdout",
     "output_type": "stream",
     "text": [
      "20 [226.73997416  41.33773158 352.8622271 ]\n"
     ]
    }
   ],
   "source": [
    "# Parameters for universe initialization\n",
    "box_const_size = 500\n",
    "box_size = np.array([box_const_size,box_const_size,box_const_size]) #max coordinate values for universe\n",
    "num_molecules = 20\n",
    "num_steps = 20000\n",
    "radius  = 100\n",
    "\n",
    "#other setup\n",
    "seed = 1313\n",
    "\n",
    "# Create Universe\n",
    "molecules = [mc.Molecule(np.array([random.uniform(0,box_size[0]), \n",
    "                    random.uniform(0,box_size[1]), \n",
    "                    random.uniform(0,box_size[2]) ]),radius) for _ in range(num_molecules)]\n",
    "\n",
    "print(len(molecules),molecules[0].pos)\n",
    "\n",
    "uni = mc.SimpleUniverse(molecules,seed)\n"
   ]
  },
  {
   "cell_type": "code",
   "execution_count": 10,
   "metadata": {},
   "outputs": [
    {
     "name": "stderr",
     "output_type": "stream",
     "text": [
      "C:\\Users\\EmilR\\Documents\\GitHub\\MoleculeSim\\ownSim\\forces.py:47: RuntimeWarning: invalid value encountered in log\n",
      "  thrd_term = np.log((r2 - square_p)/(r2 - square_n))\n",
      "C:\\Users\\EmilR\\Documents\\GitHub\\MoleculeSim\\ownSim\\forces.py:80: RuntimeWarning: invalid value encountered in scalar power\n",
      "  snd = 28 * (y**(-1/4) - 1)\n",
      "C:\\Users\\EmilR\\Documents\\GitHub\\MoleculeSim\\ownSim\\forces.py:81: RuntimeWarning: invalid value encountered in scalar power\n",
      "  trd = (20/11) * (1 - y**(11/4))\n"
     ]
    }
   ],
   "source": [
    "points = []\n",
    "\n",
    "# Perform Simulation\n",
    "for i in range(num_steps):\n",
    "  #randomly select a molecule\n",
    "  mol = uni.select_molecule()\n",
    "  #keep proposing new steps until one is accepted\n",
    "  mc.step(uni,mol)\n",
    "  #store intermediate results?\n",
    "  points.append(uni.get_state())\n",
    "\n",
    "\n",
    "#points shape = 20x20x3"
   ]
  },
  {
   "cell_type": "code",
   "execution_count": 16,
   "metadata": {},
   "outputs": [],
   "source": [
    "from __future__ import absolute_import, division, print_function\n",
    "from mayavi import mlab\n",
    "import numpy as np\n",
    "import math\n",
    "\n",
    "alpha = np.linspace(0, 2*math.pi, 100)  \n",
    "\n",
    "\n",
    "# xs = np.array(points[:][:][0]).reshape((num_steps,num_molecules))\n",
    "# ys = np.array(points[:][:][1]).reshape((num_steps,num_molecules))\n",
    "# zs = np.array(points[:][:][2]).reshape((num_steps,num_molecules))\n",
    "\n",
    "#mlab.points3d(0,0,0)\n",
    "plt = mlab.points3d(points[0][:, 0], points[0][:, 1], points[0][:, 2])\n",
    "\n",
    "@mlab.animate(delay=100)\n",
    "def anim():\n",
    "    f = mlab.gcf()\n",
    "    while True:\n",
    "        #temp = \"step: \"\n",
    "        for step in range(num_steps):\n",
    "            temp = \"step: \" + str(step)\n",
    "            #print(temp, end = \"\\r\")\n",
    "            x = points[step][:, 0]\n",
    "            y = points[step][:, 1]\n",
    "            z = points[step][:, 2]\n",
    "        #for (x, y, z) in zip(xs, ys, zs):\n",
    "            #plt.mlab_source.set(x=x, y=y, z=z)\n",
    "            mlab.text3d(600,600,600, text = temp)\n",
    "            yield\n",
    "\n",
    "\n",
    "anim()\n",
    "mlab.show()"
   ]
  }
 ],
 "metadata": {
  "kernelspec": {
   "display_name": "OST",
   "language": "python",
   "name": "python3"
  },
  "language_info": {
   "codemirror_mode": {
    "name": "ipython",
    "version": 3
   },
   "file_extension": ".py",
   "mimetype": "text/x-python",
   "name": "python",
   "nbconvert_exporter": "python",
   "pygments_lexer": "ipython3",
   "version": "3.10.13"
  }
 },
 "nbformat": 4,
 "nbformat_minor": 2
}
