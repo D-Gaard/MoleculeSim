{
 "cells": [
  {
   "cell_type": "code",
   "execution_count": 42,
   "metadata": {},
   "outputs": [],
   "source": [
    "#IMPORTS \n",
    "import sys\n",
    "import numpy as np\n",
    "import matplotlib.pyplot as plt\n",
    "#sys.path.append(r\"C:\\Users\\DGaard\\Desktop\\Gits\\MoleculeSim\\ownSim\")\n",
    "sys.path.append(r\"C:\\Users\\EmilR\\Documents\\GitHub\\MoleculeSim\\ownSim\")\n",
    "\n",
    "#import forces as fc\n",
    "import molecules as mc\n",
    "import img3dto2d as i32\n",
    "import util\n",
    "#import random\n",
    "#import copy\n",
    "#from tqdm import tqdm"
   ]
  },
  {
   "cell_type": "code",
   "execution_count": 43,
   "metadata": {},
   "outputs": [],
   "source": [
    "def old_load(name):\n",
    "  with open(name, 'rb') as f:\n",
    "    poss = np.load(f)\n",
    "    radii = np.load(f)\n",
    "  return poss, radii"
   ]
  },
  {
   "cell_type": "code",
   "execution_count": 44,
   "metadata": {},
   "outputs": [
    {
     "name": "stdout",
     "output_type": "stream",
     "text": [
      "frames: 100 molecules:  1000  image size: [3800 3800]\n"
     ]
    }
   ],
   "source": [
    "# load radius and all molecule positions\n",
    "filename = \"simV3R_100_3800_bf5b8.npy\"\n",
    "filename_split = filename.split(\"_\")\n",
    "points, radii= old_load(filename)\n",
    "\n",
    "\n",
    "\n",
    "num_frames = int(filename_split[1])\n",
    "\n",
    "#image values\n",
    "image_size = np.array([int(filename_split[2]),int(filename_split[2])])\n",
    "sigma_scale = 4 #gauss values\n",
    "frames = [0,len(points) - 1] #select frames to plot\n",
    "print(\"frames:\" , num_frames, \"molecules: \", len(points[0])  ,\" image size:\", image_size)"
   ]
  },
  {
   "cell_type": "code",
   "execution_count": 45,
   "metadata": {},
   "outputs": [],
   "source": [
    "plot = False\n",
    "animate = True"
   ]
  },
  {
   "cell_type": "code",
   "execution_count": 46,
   "metadata": {},
   "outputs": [],
   "source": [
    "if plot:\n",
    "  #plot frames\n",
    "  imgs_gauss = []\n",
    "  imgs_fill = []\n",
    "\n",
    "  plt.figure(figsize=(8,16))\n",
    "  for i,f in enumerate(frames):\n",
    "    _p2dr = list(zip(np.array(points[f])[:,:2],radii))\n",
    "    \n",
    "    plt.subplot(len(frames),2,(i)*2+1)\n",
    "    plt.title(f\"Fill - Frame: {f}\")\n",
    "    _img_fill = i32.get_3d_to_2d_img(_p2dr,image_size)\n",
    "    plt.imshow(_img_fill,cmap=\"gray\")\n",
    "\n",
    "    plt.subplot(len(frames),2,(i)*2+2)\n",
    "    plt.title(f\"Gauss - Frame: {f}\")\n",
    "    _img_gauss = i32.get_3d_to_2d_img_gauss(_p2dr,image_size,sigma_scale)\n",
    "    plt.imshow(_img_gauss,cmap=\"gray\")\n",
    "\n",
    "    imgs_fill.append(_img_fill)\n",
    "    imgs_gauss.append(_img_gauss)\n",
    "\n",
    "  plt.show()"
   ]
  },
  {
   "cell_type": "code",
   "execution_count": 47,
   "metadata": {},
   "outputs": [
    {
     "data": {
      "image/png": "[encoded data removed]",
      "text/plain": [
       "<Figure size 640x480 with 1 Axes>"
      ]
     },
     "metadata": {},
     "output_type": "display_data"
    }
   ],
   "source": [
    "x = np.linspace(0.1,600, 1000)\n",
    "res = [util.pdf(i) for i in x]\n",
    "\n",
    "plt.figure()\n",
    "plt.hist(radii * 2,bins = 50, density = True)\n",
    "plt.plot(x,res)\n",
    "plt.show()"
   ]
  },
  {
   "cell_type": "code",
   "execution_count": 48,
   "metadata": {},
   "outputs": [
    {
     "name": "stdout",
     "output_type": "stream",
     "text": [
      "278.6379651443774\n"
     ]
    }
   ],
   "source": [
    "#apply video stuff\n",
    "#mayavi visualize\n",
    "from __future__ import absolute_import, division, print_function\n",
    "from mayavi import mlab\n",
    "import numpy as np\n",
    "import math\n",
    "\n",
    "num_molecules = len(points[0])\n",
    "box_size = np.array([3800,3800,3800])\n",
    "max_radius = max(radii)\n",
    "print(max_radius)\n",
    "if animate:\n",
    "\n",
    "\txs = np.array([inner_list[0] for sublist in points for inner_list in sublist]).reshape((num_frames,num_molecules))\n",
    "\tys = np.array([inner_list[1] for sublist in points for inner_list in sublist]).reshape((num_frames,num_molecules))\n",
    "\tzs = np.array([inner_list[2] for sublist in points for inner_list in sublist]).reshape((num_frames,num_molecules))\n",
    "\tmlab.clf()\n",
    "\t#mlab.points3d(0,0,0)\n",
    "\n",
    "\t# plt = mlab.points3d([0], [0], [0], resolution = 100, scale_factor = 100*2)\n",
    "\t# plt = mlab.points3d([300], [0], [0], resolution = 100, scale_factor = 200*2)\n",
    "\t#plt = mlab.points3d(points[0][:, 0], points[0][:, 1], points[0][:, 2], resolution = 10, scale_factor = radius*2)\n",
    "\tplt = mlab.points3d(points[0][:, 0], points[0][:, 1], points[0][:, 2], radii*2, resolution = 10, scale_mode = \"scalar\", scale_factor = 1)\n",
    "\tmlab.axes(extent = [0,box_size[0],0,box_size[1],0,box_size[2]])#ranges = [-100,500,-200,200,-200,200]\n",
    "\ttext_position = (0,0,0)\n",
    "\ttext_actor = mlab.text3d(500,150, 510, \"TESTING\", scale = 40, color = (0,0,0))\n",
    "\t@mlab.animate(delay = 100, ui = True, support_movie = True) #delay = 100\n",
    "\tdef anim():\n",
    "\t\tf = mlab.gcf()\n",
    "\t\twhile True:\n",
    "\t\t\t#temp = \"step: \"\n",
    "\t\t\tfor step in range(len(xs)):#num_steps\n",
    "\t\t\t\tx = xs[step]#points[step][:, 0]\n",
    "\t\t\t\ty = ys[step]#points[step][:, 1]\n",
    "\t\t\t\tz = zs[step]#points[step][:, 2]\n",
    "\t\t\t\tplt.mlab_source.set(x=x, y=y, z=z)\n",
    "\t\t\t\t# for i in range(num_molecules):\n",
    "  \t\t\t# \t\tplt[i].mlab_source.set(x=x[i], y=y[i], z=z[i])\n",
    "\t\t\t\ttext_actor.text = f\"Frame: {step}\"\n",
    "\t\t\t\t\n",
    "\t\t\t\tyield\n",
    "\n",
    "\n",
    "\tanim()\n",
    "\tmlab.show()"
   ]
  },
  {
   "cell_type": "code",
   "execution_count": 49,
   "metadata": {},
   "outputs": [
    {
     "ename": "",
     "evalue": "",
     "output_type": "error",
     "traceback": [
      "\u001b[1;31mThe Kernel crashed while executing code in the the current cell or a previous cell. Please review the code in the cell(s) to identify a possible cause of the failure. Click <a href='https://aka.ms/vscodeJupyterKernelCrash'>here</a> for more info. View Jupyter <a href='command:jupyter.viewOutput'>log</a> for further details."
     ]
    }
   ],
   "source": [
    "# mlab.clf()\n",
    "\n",
    "\n",
    "# plt2 = mlab.points3d([0, 300], [0,0], [0,0], [200,400], scale_factor = 1, resolution = 100, scale_mode = \"scalar\") #scale_factor = max_radii, scale_mode = \"scalar\"\n",
    "# mlab.axes(extent = [-100,100,-100,100,-100,100])\n",
    "# mlab.show()"
   ]
  }
 ],
 "metadata": {
  "kernelspec": {
   "display_name": "ost3",
   "language": "python",
   "name": "python3"
  },
  "language_info": {
   "codemirror_mode": {
    "name": "ipython",
    "version": 3
   },
   "file_extension": ".py",
   "mimetype": "text/x-python",
   "name": "python",
   "nbconvert_exporter": "python",
   "pygments_lexer": "ipython3",
   "version": "3.10.13"
  }
 },
 "nbformat": 4,
 "nbformat_minor": 2
}
