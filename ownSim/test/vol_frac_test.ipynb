{
 "cells": [
  {
   "cell_type": "code",
   "execution_count": 1,
   "metadata": {},
   "outputs": [],
   "source": [
    "#IMPORTS \n",
    "import sys\n",
    "import numpy as np\n",
    "import matplotlib.pyplot as plt\n",
    "sys.path.append(r\"C:\\Users\\DGaard\\Desktop\\Gits\\MoleculeSim\\ownSim\")\n",
    "#sys.path.append(r\"C:\\Users\\EmilR\\Documents\\GitHub\\MoleculeSim\\ownSim\")\n",
    "\n",
    "#import forces as fc\n",
    "import molecules as mc\n",
    "import img3dto2d as i32\n",
    "import util\n",
    "import forces as fc\n",
    "import molecules as mc\n",
    "#import random\n",
    "#import copy\n",
    "from tqdm import tqdm\n",
    "import scipy"
   ]
  },
  {
   "cell_type": "code",
   "execution_count": 2,
   "metadata": {},
   "outputs": [
    {
     "name": "stdout",
     "output_type": "stream",
     "text": [
      "3182.1092474458783\n"
     ]
    }
   ],
   "source": [
    "# get box size relation to average molecule diameter\n",
    "radius = 100\n",
    "s_vol = (4/3)*np.pi*radius**3\n",
    "\n",
    "print(np.cbrt(s_vol*1000*(1/0.13)))"
   ]
  },
  {
   "cell_type": "code",
   "execution_count": 3,
   "metadata": {},
   "outputs": [],
   "source": [
    "#setup universe\n",
    "# Parameters for universe initialization\n",
    "#box_const_size = 3800.\n",
    "#box_size = np.array([box_const_size,box_const_size,box_const_size]) #max coordinate values for universe\n",
    "#num_molecules = 1000#1000#20\n",
    "#other setup\n",
    "#seed = 1414 #1313\n",
    "\n",
    "#combs = grid_points(box_size, radius, spacing)\n",
    "#molecules = [mc.Molecule(pos, radius) for pos in combs]\n",
    "\n",
    "#force_func = custom_force1\n",
    "#uni = mc.SimpleUniverse(box_size, len(molecules),np.repeat(radius,len(molecules)),seed, own_molecules = molecules, force_fun = cust_force)\n",
    "#uni = mc.SimpleUniverse(box_size, num_molecules,radii,seed, force_fun = force_func)"
   ]
  },
  {
   "cell_type": "code",
   "execution_count": 3,
   "metadata": {},
   "outputs": [],
   "source": [
    "def sphere_vol(radius):\n",
    "  return (4/3)*np.pi*radius**3"
   ]
  },
  {
   "cell_type": "code",
   "execution_count": 4,
   "metadata": {},
   "outputs": [],
   "source": [
    "def avg_sphere_vol(d):\n",
    "  return util.pdf(d) * sphere_vol(d/2)"
   ]
  },
  {
   "cell_type": "code",
   "execution_count": 12,
   "metadata": {},
   "outputs": [
    {
     "name": "stdout",
     "output_type": "stream",
     "text": [
      "num molecules 989.1308959246044\n"
     ]
    }
   ],
   "source": [
    "num_molecules = 1000\n",
    "avg_sphere_area = scipy.integrate.quad(avg_sphere_vol, -0.0000000000001, np.infty)[0]\n",
    "exp_box_area = num_molecules*avg_sphere_area*(1/0.06)\n",
    "\n",
    "\n",
    "print(\"num molecules\",(11500*11500*1000)/(avg_sphere_area*(1/0.06)))\n",
    "exp_box_dim = np.cbrt(exp_box_area)"
   ]
  },
  {
   "cell_type": "code",
   "execution_count": 9,
   "metadata": {},
   "outputs": [
    {
     "name": "stdout",
     "output_type": "stream",
     "text": [
      "133703234369.57997\n",
      "5113.449498078122 5113\n"
     ]
    }
   ],
   "source": [
    "print(exp_box_area)\n",
    "print(exp_box_dim,round(exp_box_dim))"
   ]
  },
  {
   "cell_type": "code",
   "execution_count": 8,
   "metadata": {},
   "outputs": [
    {
     "name": "stdout",
     "output_type": "stream",
     "text": [
      "33510321.638291124\n"
     ]
    }
   ],
   "source": [
    "print(sphere_vol(200))"
   ]
  },
  {
   "cell_type": "code",
   "execution_count": 9,
   "metadata": {},
   "outputs": [],
   "source": [
    "box_const_size = float(round(exp_box_dim))\n",
    "box_size = np.array([box_const_size,box_const_size,box_const_size])\n",
    "box_area = box_size[0] * box_size[1] * box_size[2]"
   ]
  },
  {
   "cell_type": "code",
   "execution_count": 10,
   "metadata": {},
   "outputs": [
    {
     "name": "stderr",
     "output_type": "stream",
     "text": [
      "  0%|          | 0/100 [00:00<?, ?it/s]"
     ]
    },
    {
     "name": "stderr",
     "output_type": "stream",
     "text": [
      "100%|██████████| 100/100 [01:56<00:00,  1.17s/it]\n"
     ]
    }
   ],
   "source": [
    "vol_frac = []\n",
    "seed = 1414\n",
    "for i in tqdm(range(100)):\n",
    "  #get 1000 radii from dist\n",
    "  radii  = util.get_n_radii(num_molecules, seed = seed) \n",
    "  # get their volume fraction\n",
    "  sphere_area = sum([sphere_vol(r) for r in radii])\n",
    "  # print(sphere_area)\n",
    "  # print(box_area)\n",
    "  vol_frac.append(sphere_area/box_area)\n",
    "  seed +=1"
   ]
  },
  {
   "cell_type": "code",
   "execution_count": 11,
   "metadata": {},
   "outputs": [
    {
     "data": {
      "image/png": "[encoded data removed]",
      "text/plain": [
       "<Figure size 640x480 with 1 Axes>"
      ]
     },
     "metadata": {},
     "output_type": "display_data"
    }
   ],
   "source": [
    "# plot stats\n",
    "plt.figure()\n",
    "plt.hist(vol_frac, bins = 10)\n",
    "hist, edges = np.histogram(vol_frac, bins = 100, density = True)\n",
    "bin_centers = (edges[:-1] + edges[1:]) / 2\n",
    "# plt.plot(bin_centers, hist)\n",
    "plt.show()"
   ]
  },
  {
   "cell_type": "code",
   "execution_count": 12,
   "metadata": {},
   "outputs": [
    {
     "data": {
      "image/png": "[encoded data removed]",
      "text/plain": [
       "<Figure size 640x480 with 1 Axes>"
      ]
     },
     "metadata": {},
     "output_type": "display_data"
    }
   ],
   "source": [
    "hist_norm = hist/sum(hist)\n",
    "cum_hist = np.cumsum(hist_norm)\n",
    "\n",
    "plt.figure()\n",
    "plt.plot(bin_centers, cum_hist)\n",
    "plt.axhline(y=0.05, color='r', linestyle='dashed')\n",
    "plt.axhline(y=0.95, color='r', linestyle='dashed')\n",
    "plt.show()\n"
   ]
  },
  {
   "cell_type": "code",
   "execution_count": 13,
   "metadata": {},
   "outputs": [
    {
     "name": "stdout",
     "output_type": "stream",
     "text": [
      "0.11485385488164342 0.1456637071265997\n"
     ]
    }
   ],
   "source": [
    "print(bin_centers[2], bin_centers[-3])"
   ]
  },
  {
   "cell_type": "code",
   "execution_count": 19,
   "metadata": {},
   "outputs": [
    {
     "name": "stdout",
     "output_type": "stream",
     "text": [
      "Unable to spawn points withing the box\n"
     ]
    }
   ],
   "source": [
    "seed = 1423\n",
    "uni = mc.SimpleUniverse(box_size, num_molecules,util.get_n_radii(num_molecules,seed=seed),seed = seed, force_fun = fc.total_force_molecule)"
   ]
  },
  {
   "cell_type": "code",
   "execution_count": 21,
   "metadata": {},
   "outputs": [
    {
     "name": "stdout",
     "output_type": "stream",
     "text": [
      "1414 0.11555470981407082\n",
      "Unable to spawn points withing the box\n",
      "1415 0.13279279622358278\n",
      "1416 0.1372703633007189\n",
      "1417 0.12583421724897037\n",
      "Unable to spawn points withing the box\n",
      "1418 0.13506714751080337\n",
      "Unable to spawn points withing the box\n",
      "1419 0.13369555667957275\n",
      "1420 0.12274183857815174\n",
      "1421 0.12901427565818496\n",
      "1422 0.12294508051455749\n",
      "Unable to spawn points withing the box\n",
      "1423 0.12418428513037937\n"
     ]
    },
    {
     "ename": "",
     "evalue": "",
     "output_type": "error",
     "traceback": [
      "\u001b[1;31mThe Kernel crashed while executing code in the the current cell or a previous cell. Please review the code in the cell(s) to identify a possible cause of the failure. Click <a href='https://aka.ms/vscodeJupyterKernelCrash'>here</a> for more info. View Jupyter <a href='command:jupyter.viewOutput'>log</a> for further details."
     ]
    }
   ],
   "source": [
    "#test if we can create universe with this box size\n",
    "seed = 1414\n",
    "\n",
    "box_vol = box_const_size**3\n",
    "\n",
    "for i in range(10):\n",
    "  radii = util.get_n_radii(num_molecules,seed=seed)\n",
    "  sphere_vol = 0\n",
    "  for r in radii:\n",
    "    sphere_vol += ((4/3)*r**3*np.pi)\n",
    "\n",
    "  uni = mc.SimpleUniverse(box_size, num_molecules,radii,seed = seed, force_fun = fc.total_force_molecule)\n",
    "  print(seed, sphere_vol/box_vol)\n",
    "  seed +=1"
   ]
  }
 ],
 "metadata": {
  "kernelspec": {
   "display_name": "OSTV2",
   "language": "python",
   "name": "python3"
  },
  "language_info": {
   "codemirror_mode": {
    "name": "ipython",
    "version": 3
   },
   "file_extension": ".py",
   "mimetype": "text/x-python",
   "name": "python",
   "nbconvert_exporter": "python",
   "pygments_lexer": "ipython3",
   "version": "3.10.13"
  }
 },
 "nbformat": 4,
 "nbformat_minor": 2
}
