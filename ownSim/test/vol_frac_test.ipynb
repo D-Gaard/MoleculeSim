{
 "cells": [
  {
   "cell_type": "code",
   "execution_count": 159,
   "metadata": {},
   "outputs": [],
   "source": [
    "#IMPORTS \n",
    "import sys\n",
    "import numpy as np\n",
    "import matplotlib.pyplot as plt\n",
    "#sys.path.append(r\"C:\\Users\\DGaard\\Desktop\\Gits\\MoleculeSim\\ownSim\")\n",
    "sys.path.append(r\"C:\\Users\\EmilR\\Documents\\GitHub\\MoleculeSim\\ownSim\")\n",
    "\n",
    "#import forces as fc\n",
    "import molecules as mc\n",
    "import img3dto2d as i32\n",
    "import util\n",
    "import forces as fc\n",
    "import molecules as mc\n",
    "#import random\n",
    "#import copy\n",
    "from tqdm import tqdm\n",
    "import scipy"
   ]
  },
  {
   "cell_type": "code",
   "execution_count": 160,
   "metadata": {},
   "outputs": [
    {
     "name": "stdout",
     "output_type": "stream",
     "text": [
      "3182.1092474458783\n"
     ]
    }
   ],
   "source": [
    "# get box size relation to average molecule diameter\n",
    "radius = 100\n",
    "s_vol = (4/3)*np.pi*radius**3\n",
    "\n",
    "print(np.cbrt(s_vol*1000*(1/0.13)))"
   ]
  },
  {
   "cell_type": "code",
   "execution_count": 161,
   "metadata": {},
   "outputs": [],
   "source": [
    "#setup universe\n",
    "# Parameters for universe initialization\n",
    "#box_const_size = 3800.\n",
    "#box_size = np.array([box_const_size,box_const_size,box_const_size]) #max coordinate values for universe\n",
    "num_molecules = 1000#1000#20\n",
    "#other setup\n",
    "#seed = 1414 #1313\n",
    "\n",
    "#combs = grid_points(box_size, radius, spacing)\n",
    "#molecules = [mc.Molecule(pos, radius) for pos in combs]\n",
    "\n",
    "#force_func = custom_force1\n",
    "#uni = mc.SimpleUniverse(box_size, len(molecules),np.repeat(radius,len(molecules)),seed, own_molecules = molecules, force_fun = cust_force)\n",
    "#uni = mc.SimpleUniverse(box_size, num_molecules,radii,seed, force_fun = force_func)"
   ]
  },
  {
   "cell_type": "code",
   "execution_count": 162,
   "metadata": {},
   "outputs": [],
   "source": [
    "def sphere_vol(radius):\n",
    "  return (4/3)*np.pi*radius**3"
   ]
  },
  {
   "cell_type": "code",
   "execution_count": 163,
   "metadata": {},
   "outputs": [],
   "source": [
    "def avg_sphere_vol(d):\n",
    "  return util.pdf(d) * sphere_vol(d/2)"
   ]
  },
  {
   "cell_type": "code",
   "execution_count": 164,
   "metadata": {},
   "outputs": [],
   "source": [
    "avg_sphere_area = scipy.integrate.quad(avg_sphere_vol, -0.0000000000001, np.infty)[0]\n",
    "exp_box_area = num_molecules*avg_sphere_area*(1/0.13)\n",
    "exp_box_dim = np.cbrt(exp_box_area)"
   ]
  },
  {
   "cell_type": "code",
   "execution_count": 165,
   "metadata": {},
   "outputs": [
    {
     "name": "stdout",
     "output_type": "stream",
     "text": [
      "61709185093.65229\n",
      "3951.6936622798657\n"
     ]
    }
   ],
   "source": [
    "print(exp_box_area)\n",
    "print(exp_box_dim)"
   ]
  },
  {
   "cell_type": "code",
   "execution_count": 114,
   "metadata": {},
   "outputs": [
    {
     "name": "stdout",
     "output_type": "stream",
     "text": [
      "33510321.638291124\n"
     ]
    }
   ],
   "source": [
    "print(sphere_vol(200))"
   ]
  },
  {
   "cell_type": "code",
   "execution_count": 166,
   "metadata": {},
   "outputs": [],
   "source": [
    "box_const_size = exp_box_dim\n",
    "box_size = np.array([box_const_size,box_const_size,box_const_size])\n",
    "box_area = box_size[0] * box_size[1] * box_size[2]"
   ]
  },
  {
   "cell_type": "code",
   "execution_count": 167,
   "metadata": {},
   "outputs": [
    {
     "name": "stderr",
     "output_type": "stream",
     "text": [
      "100%|██████████| 100/100 [04:02<00:00,  2.42s/it]\n"
     ]
    }
   ],
   "source": [
    "vol_frac = []\n",
    "seed = 1414\n",
    "for i in tqdm(range(100)):\n",
    "  #get 1000 radii from dist\n",
    "  radii  = util.get_n_radii(num_molecules, seed = seed) \n",
    "  # get their volume fraction\n",
    "  sphere_area = sum([sphere_vol(r) for r in radii])\n",
    "  # print(sphere_area)\n",
    "  # print(box_area)\n",
    "  vol_frac.append(sphere_area/box_area)\n",
    "  seed +=1"
   ]
  },
  {
   "cell_type": "code",
   "execution_count": 206,
   "metadata": {},
   "outputs": [
    {
     "data": {
      "image/png": "[encoded data removed]",
      "text/plain": [
       "<Figure size 640x480 with 1 Axes>"
      ]
     },
     "metadata": {},
     "output_type": "display_data"
    }
   ],
   "source": [
    "# plot stats\n",
    "plt.figure()\n",
    "plt.hist(vol_frac, bins = 10)\n",
    "hist, edges = np.histogram(vol_frac, bins = 100, density = True)\n",
    "bin_centers = (edges[:-1] + edges[1:]) / 2\n",
    "# plt.plot(bin_centers, hist)\n",
    "plt.show()"
   ]
  },
  {
   "cell_type": "code",
   "execution_count": 207,
   "metadata": {},
   "outputs": [
    {
     "data": {
      "image/png": "[encoded data removed]",
      "text/plain": [
       "<Figure size 640x480 with 1 Axes>"
      ]
     },
     "metadata": {},
     "output_type": "display_data"
    }
   ],
   "source": [
    "hist_norm = hist/sum(hist)\n",
    "cum_hist = np.cumsum(hist_norm)\n",
    "\n",
    "plt.figure()\n",
    "plt.plot(bin_centers, cum_hist)\n",
    "plt.axhline(y=0.05, color='r', linestyle='dashed')\n",
    "plt.axhline(y=0.95, color='r', linestyle='dashed')\n",
    "plt.show()\n"
   ]
  },
  {
   "cell_type": "code",
   "execution_count": 210,
   "metadata": {},
   "outputs": [
    {
     "name": "stdout",
     "output_type": "stream",
     "text": [
      "0.1148805675764684 0.14569758557290488\n"
     ]
    }
   ],
   "source": [
    "print(bin_centers[2], bin_centers[-3])"
   ]
  },
  {
   "cell_type": "code",
   "execution_count": 211,
   "metadata": {},
   "outputs": [],
   "source": [
    "#test if we can create universe with this box size\n",
    "seed = 1414\n",
    "for i in range(10):\n",
    "\n",
    "  uni = mc.SimpleUniverse(box_size, num_molecules,util.get_n_radii(num_molecules),seed = seed, force_fun = fc.total_force_molecule)\n",
    "  seed +=1"
   ]
  }
 ],
 "metadata": {
  "kernelspec": {
   "display_name": "OSTV2",
   "language": "python",
   "name": "python3"
  },
  "language_info": {
   "codemirror_mode": {
    "name": "ipython",
    "version": 3
   },
   "file_extension": ".py",
   "mimetype": "text/x-python",
   "name": "python",
   "nbconvert_exporter": "python",
   "pygments_lexer": "ipython3",
   "version": "3.10.13"
  }
 },
 "nbformat": 4,
 "nbformat_minor": 2
}
