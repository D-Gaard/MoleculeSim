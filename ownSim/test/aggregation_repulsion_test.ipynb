{
 "cells": [
  {
   "cell_type": "code",
   "execution_count": 1,
   "metadata": {},
   "outputs": [],
   "source": [
    "#IMPORTS \n",
    "import sys\n",
    "import numpy as np\n",
    "import matplotlib.pyplot as plt\n",
    "sys.path.append(r\"C:\\Users\\EmilR\\Documents\\GitHub\\MoleculeSim\\ownSim\")\n",
    "\n",
    "import molecules as mc\n",
    "import forces as fc\n",
    "import random\n",
    "import copy"
   ]
  },
  {
   "cell_type": "code",
   "execution_count": 2,
   "metadata": {},
   "outputs": [],
   "source": [
    "import itertools\n",
    "def grid_points(box_size,radius, spacing):\n",
    "  x = np.arange(radius + spacing, box_size[0]- radius- spacing, step = 2*radius + spacing, dtype=float)\n",
    "  y = np.arange(radius+ spacing, box_size[1]- radius- spacing, step = 2*radius + spacing, dtype=float)\n",
    "  z = np.arange(radius+ spacing, box_size[2]- radius- spacing, step = 2*radius + spacing, dtype=float)\n",
    "  all_combinations = list(itertools.product(x,y,z))\n",
    "  print(x,y,z)\n",
    "  return [np.array(comb) for comb in all_combinations]"
   ]
  },
  {
   "cell_type": "code",
   "execution_count": 3,
   "metadata": {},
   "outputs": [],
   "source": [
    "def lin_repulsion(x):\n",
    "  return max(-(1/3)*x + 10,0) "
   ]
  },
  {
   "cell_type": "code",
   "execution_count": 4,
   "metadata": {},
   "outputs": [],
   "source": [
    "# plt.figure()\n",
    "# x = [float(10)]#np.arange(0,100)\n",
    "# f = [f(xi) for xi in x]\n",
    "# plt.plot(x,f)\n",
    "# plt.show()\n",
    "#print(wut(float(30)))"
   ]
  },
  {
   "cell_type": "code",
   "execution_count": 5,
   "metadata": {},
   "outputs": [],
   "source": [
    "SIGMA = 0.006 #grafting density\n",
    "H = 7 #width of the polyelectrolyte brush in nm\n",
    "\n",
    "def cust_force(m1,m2):\n",
    "  h = (mc.dist(m1,m2)-m1.radius-m2.radius)\n",
    "  # print(\"h: \",h)\n",
    "  # print(type(h))\n",
    "  # print(\"f(h): \",f(h))\n",
    "\n",
    "  return lin_repulsion(h)\n",
    "\n",
    "\n",
    "  #return fc.vdw(m1,m2) #*10**(-4.6)"
   ]
  },
  {
   "cell_type": "code",
   "execution_count": 6,
   "metadata": {},
   "outputs": [],
   "source": [
    "# Parameters for universe initialization\n",
    "box_const_size = 850\n",
    "box_size = np.array([box_const_size,box_const_size,box_const_size]) #max coordinate values for universe\n",
    "#num_molecules = 5\n",
    "num_steps = 100000\n",
    "radius  = 100\n",
    "num_molecules = 30\n",
    "#other setup\n",
    "seed = 1234#1313\n",
    "spacing = 10\n",
    "#combs = grid_points(box_size, radius, spacing)\n",
    "#molecules = [mc.Molecule(pos, radius) for pos in combs]\n",
    "\n",
    "#uni = mc.SimpleUniverse(box_size, len(molecules),np.repeat(radius,len(molecules)),seed, own_molecules = molecules, force_fun = cust_force)\n",
    "uni = mc.SimpleUniverse(box_size, num_molecules,np.repeat(radius,num_molecules),seed, force_fun = cust_force)\n"
   ]
  },
  {
   "cell_type": "code",
   "execution_count": 7,
   "metadata": {},
   "outputs": [
    {
     "name": "stdout",
     "output_type": "stream",
     "text": [
      "146.61154413946534\n",
      "0.2054794520547945\n"
     ]
    }
   ],
   "source": [
    "box_vol = 850**3\n",
    "print(box_vol/((4/3)*radius**3*np.pi))\n",
    "\n",
    "print(30/146)"
   ]
  },
  {
   "cell_type": "code",
   "execution_count": 8,
   "metadata": {},
   "outputs": [
    {
     "name": "stdout",
     "output_type": "stream",
     "text": [
      "<class 'numpy.float64'>\n"
     ]
    }
   ],
   "source": [
    "print(type(uni.molecules[0].pos[0]))"
   ]
  },
  {
   "cell_type": "code",
   "execution_count": 9,
   "metadata": {},
   "outputs": [],
   "source": [
    "#calculate density:\n"
   ]
  },
  {
   "cell_type": "code",
   "execution_count": 10,
   "metadata": {},
   "outputs": [
    {
     "name": "stdout",
     "output_type": "stream",
     "text": [
      "Accepted: 93123, Rejected: 6877, Rate: 0.93123\n"
     ]
    }
   ],
   "source": [
    "#step loop\n",
    "points = []\n",
    "\n",
    "# Perform Simulation\n",
    "for i in range(num_steps):\n",
    "  #randomly select a molecule\n",
    "  uni.make_step()\n",
    "  #store intermediate results?\n",
    "  points.append(uni.get_state())\n",
    "\n",
    "acc, rej, accs, num = uni.get_stats()\n",
    "print(f\"Accepted: {acc}, Rejected: {rej}, Rate: {acc/num}\")"
   ]
  },
  {
   "cell_type": "code",
   "execution_count": 11,
   "metadata": {},
   "outputs": [],
   "source": [
    "# get only some steps\n",
    "xs = np.array([inner_list[0] for sublist in points for inner_list in sublist]).reshape((num_steps,num_molecules))\n",
    "ys = np.array([inner_list[1] for sublist in points for inner_list in sublist]).reshape((num_steps,num_molecules))\n",
    "zs = np.array([inner_list[2] for sublist in points for inner_list in sublist]).reshape((num_steps,num_molecules))\n"
   ]
  },
  {
   "cell_type": "code",
   "execution_count": 12,
   "metadata": {},
   "outputs": [],
   "source": [
    "xs = [xs[i] for i in range(len(xs)) if i % 100 == 0]\n",
    "ys = [ys[i] for i in range(len(ys)) if i % 100 == 0]\n",
    "zs = [zs[i] for i in range(len(zs)) if i % 100 == 0]"
   ]
  },
  {
   "cell_type": "code",
   "execution_count": 13,
   "metadata": {},
   "outputs": [
    {
     "name": "stdout",
     "output_type": "stream",
     "text": [
      "[640.8717017  274.4251626  160.34984787 150.67906056 274.42065334\n",
      " 326.61738996 640.56051843 436.55088702 742.25869508 212.50372749\n",
      " 570.83972341 584.58418404 428.14100288 217.03772024 180.47432763\n",
      " 655.72697357 531.02310484 376.56803571 615.26768288 585.44097723\n",
      " 160.30882791 197.92447392 400.04589505 171.89966063 595.5262658\n",
      " 658.15355006 410.90035066 740.91325152 400.49223239 102.17703158]\n"
     ]
    }
   ],
   "source": [
    "print(xs[0])"
   ]
  },
  {
   "cell_type": "code",
   "execution_count": 14,
   "metadata": {},
   "outputs": [],
   "source": [
    "#animate:\n",
    "from __future__ import absolute_import, division, print_function\n",
    "from mayavi import mlab\n",
    "import numpy as np\n",
    "import math\n",
    "num_molecules = len(uni.molecules)\n",
    "\n",
    "\n",
    "mlab.clf()\n",
    "#mlab.points3d(0,0,0)\n",
    "plt = mlab.points3d(points[0][:, 0], points[0][:, 1], points[0][:, 2], resolution = 50)\n",
    "mlab.axes()\n",
    "text_position = (0,0,0)\n",
    "text_actor = mlab.text3d(500,150, 510, \"TESTING\", scale = 40, color = (0,0,0))\n",
    "@mlab.animate(delay = 100, ui = True, support_movie = True) #delay = 100\n",
    "def anim():\n",
    "    f = mlab.gcf()\n",
    "    while True:\n",
    "        #temp = \"step: \"\n",
    "        for step in range(len(xs)):#num_steps\n",
    "            x = xs[step]#points[step][:, 0]\n",
    "            y = ys[step]#points[step][:, 1]\n",
    "            z = zs[step]#points[step][:, 2]\n",
    "            plt.mlab_source.set(x=x, y=y, z=z)\n",
    "            text_actor.text = f\"Frame: {step}\"\n",
    "            \n",
    "            yield\n",
    "\n",
    "\n",
    "anim()\n",
    "mlab.show()"
   ]
  }
 ],
 "metadata": {
  "kernelspec": {
   "display_name": "OSTV2",
   "language": "python",
   "name": "python3"
  },
  "language_info": {
   "codemirror_mode": {
    "name": "ipython",
    "version": 3
   },
   "file_extension": ".py",
   "mimetype": "text/x-python",
   "name": "python",
   "nbconvert_exporter": "python",
   "pygments_lexer": "ipython3",
   "version": "3.10.13"
  }
 },
 "nbformat": 4,
 "nbformat_minor": 2
}
