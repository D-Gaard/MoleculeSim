{
 "cells": [
  {
   "cell_type": "code",
   "execution_count": 2,
   "metadata": {},
   "outputs": [],
   "source": [
    "#IMPORTS \n",
    "import sys\n",
    "import numpy as np\n",
    "import matplotlib.pyplot as plt\n",
    "sys.path.append(r\"C:\\Users\\EmilR\\Documents\\GitHub\\MoleculeSim\\ownSim\")\n",
    "\n",
    "import molecules as mc\n",
    "import forces as fc"
   ]
  },
  {
   "cell_type": "code",
   "execution_count": 3,
   "metadata": {},
   "outputs": [
    {
     "name": "stdout",
     "output_type": "stream",
     "text": [
      "[[439.34046196 343.4064555  338.43604553]\n",
      " [418.53381511 177.5043083  181.52599947]\n",
      " [318.21448009 332.79261081 396.74184138]\n",
      " [312.55969602 113.43503826 368.07896403]\n",
      " [458.2758352   25.6154827  332.56561537]]\n"
     ]
    }
   ],
   "source": [
    "# Parameters for universe initialization\n",
    "box_const_size = 500\n",
    "box_size = np.array([box_const_size,box_const_size,box_const_size]) #max coordinate values for universe\n",
    "num_molecules = 5\n",
    "num_steps = 10\n",
    "radius  = 20\n",
    "radii = [radius for _ in range(num_molecules)]\n",
    "\n",
    "#other setup\n",
    "seed = 1313\n",
    "\n",
    "uni = mc.SimpleUniverse(box_size,num_molecules,radii,seed)\n",
    "\n",
    "print(uni.get_state())"
   ]
  },
  {
   "cell_type": "code",
   "execution_count": 7,
   "metadata": {},
   "outputs": [
    {
     "name": "stdout",
     "output_type": "stream",
     "text": [
      "<class 'numpy.float64'>\n"
     ]
    }
   ],
   "source": [
    "print(type(uni.molecules[0].pos[0]))"
   ]
  },
  {
   "cell_type": "code",
   "execution_count": 4,
   "metadata": {},
   "outputs": [],
   "source": [
    "#step loop\n",
    "points = []\n",
    "\n",
    "# Perform Simulation\n",
    "for i in range(num_steps):\n",
    "  #randomly select a molecule\n",
    "  uni.make_step()\n",
    "  #store intermediate results?\n",
    "  points.append(uni.get_state())"
   ]
  },
  {
   "cell_type": "code",
   "execution_count": 5,
   "metadata": {},
   "outputs": [],
   "source": [
    "#animate:\n",
    "from __future__ import absolute_import, division, print_function\n",
    "from mayavi import mlab\n",
    "import numpy as np\n",
    "import math\n",
    "\n",
    "\n",
    "xs = np.array([inner_list[0] for sublist in points for inner_list in sublist]).reshape((num_steps,num_molecules)) #[inner_list[0] for sublist in test for inner_list in sublist]\n",
    "ys = np.array([inner_list[1] for sublist in points for inner_list in sublist]).reshape((num_steps,num_molecules))\n",
    "zs = np.array([inner_list[2] for sublist in points for inner_list in sublist]).reshape((num_steps,num_molecules))\n",
    "\n",
    "#mlab.points3d(0,0,0)\n",
    "plt = mlab.points3d(points[0][:, 0], points[0][:, 1], points[0][:, 2], resolution = 50)\n",
    "mlab.axes()\n",
    "text_position = (0,0,0)\n",
    "text_actor = mlab.text3d(500,150, 510, \"TESTING\", scale = 40, color = (0,0,0))\n",
    "@mlab.animate(delay = 200, ui = True, support_movie = True) #delay = 100\n",
    "def anim():\n",
    "    f = mlab.gcf()\n",
    "    while True:\n",
    "        #temp = \"step: \"\n",
    "        for step in range(num_steps):\n",
    "            x = points[step][:, 0]\n",
    "            y = points[step][:, 1]\n",
    "            z = points[step][:, 2]\n",
    "            plt.mlab_source.set(x=x, y=y, z=z)\n",
    "            text_actor.text = f\"Frame: {step}\"\n",
    "            \n",
    "            yield\n",
    "\n",
    "\n",
    "anim()\n",
    "mlab.show()"
   ]
  }
 ],
 "metadata": {
  "kernelspec": {
   "display_name": "ost3",
   "language": "python",
   "name": "python3"
  },
  "language_info": {
   "codemirror_mode": {
    "name": "ipython",
    "version": 3
   },
   "file_extension": ".py",
   "mimetype": "text/x-python",
   "name": "python",
   "nbconvert_exporter": "python",
   "pygments_lexer": "ipython3",
   "version": "3.10.13"
  }
 },
 "nbformat": 4,
 "nbformat_minor": 2
}
