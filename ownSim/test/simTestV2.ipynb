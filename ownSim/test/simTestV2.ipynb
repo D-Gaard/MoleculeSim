{
 "cells": [
  {
   "cell_type": "code",
   "execution_count": 2,
   "metadata": {},
   "outputs": [],
   "source": [
    "#IMPORTS \n",
    "import sys\n",
    "import numpy as np\n",
    "import matplotlib.pyplot as plt\n",
    "sys.path.append(r\"C:\\Users\\DGaard\\Desktop\\Gits\\MoleculeSim\\ownSim\")\n",
    "\n",
    "import molecules as mc\n",
    "import forces as fc\n"
   ]
  },
  {
   "cell_type": "code",
   "execution_count": 3,
   "metadata": {},
   "outputs": [
    {
     "name": "stdout",
     "output_type": "stream",
     "text": [
      "[[ 74.34754409 245.46495267  27.85263041]\n",
      " [248.33534163  86.31507789 343.05189261]\n",
      " [ 29.68321124 198.01446667 337.16949278]\n",
      " [341.39712248 257.91976678 151.01147313]\n",
      " [ 79.88246662 260.98641795 429.99514382]]\n"
     ]
    }
   ],
   "source": [
    "# Parameters for universe initialization\n",
    "box_const_size = 500\n",
    "box_size = np.array([box_const_size,box_const_size,box_const_size]) #max coordinate values for universe\n",
    "num_molecules = 5\n",
    "num_steps = 10\n",
    "radius  = 20\n",
    "radii = [radius for _ in range(num_molecules)]\n",
    "\n",
    "#other setup\n",
    "seed = 1313\n",
    "\n",
    "uni = mc.SimpleUniverse(box_size,num_molecules,radii,seed)\n",
    "\n",
    "print(uni.get_state())"
   ]
  },
  {
   "cell_type": "code",
   "execution_count": 4,
   "metadata": {},
   "outputs": [],
   "source": [
    "#step loop\n",
    "points = []\n",
    "\n",
    "# Perform Simulation\n",
    "for i in range(num_steps):\n",
    "  #randomly select a molecule\n",
    "  uni.make_step()\n",
    "  #store intermediate results?\n",
    "  points.append(uni.get_state())"
   ]
  },
  {
   "cell_type": "code",
   "execution_count": 5,
   "metadata": {},
   "outputs": [
    {
     "name": "stdout",
     "output_type": "stream",
     "text": [
      "********************************************************************************\n",
      "WARNING: Imported VTK version (9.3) does not match the one used\n",
      "         to build the TVTK classes (9.2). This may cause problems.\n",
      "         Please rebuild TVTK.\n",
      "********************************************************************************\n",
      "\n"
     ]
    }
   ],
   "source": [
    "#animate:\n",
    "from __future__ import absolute_import, division, print_function\n",
    "from mayavi import mlab\n",
    "import numpy as np\n",
    "import math\n",
    "\n",
    "\n",
    "xs = np.array([inner_list[0] for sublist in points for inner_list in sublist]).reshape((num_steps,num_molecules)) #[inner_list[0] for sublist in test for inner_list in sublist]\n",
    "ys = np.array([inner_list[1] for sublist in points for inner_list in sublist]).reshape((num_steps,num_molecules))\n",
    "zs = np.array([inner_list[2] for sublist in points for inner_list in sublist]).reshape((num_steps,num_molecules))\n",
    "\n",
    "#mlab.points3d(0,0,0)\n",
    "plt = mlab.points3d(points[0][:, 0], points[0][:, 1], points[0][:, 2], resolution = 50)\n",
    "mlab.axes()\n",
    "text_position = (0,0,0)\n",
    "text_actor = mlab.text3d(500,150, 510, \"TESTING\", scale = 40, color = (0,0,0))\n",
    "@mlab.animate(delay = 200, ui = True, support_movie = True) #delay = 100\n",
    "def anim():\n",
    "    f = mlab.gcf()\n",
    "    while True:\n",
    "        #temp = \"step: \"\n",
    "        for step in range(num_steps):\n",
    "            x = points[step][:, 0]\n",
    "            y = points[step][:, 1]\n",
    "            z = points[step][:, 2]\n",
    "            plt.mlab_source.set(x=x, y=y, z=z)\n",
    "            text_actor.text = f\"Frame: {step}\"\n",
    "            \n",
    "            yield\n",
    "\n",
    "\n",
    "anim()\n",
    "mlab.show()"
   ]
  }
 ],
 "metadata": {
  "kernelspec": {
   "display_name": "ost3",
   "language": "python",
   "name": "python3"
  },
  "language_info": {
   "codemirror_mode": {
    "name": "ipython",
    "version": 3
   },
   "file_extension": ".py",
   "mimetype": "text/x-python",
   "name": "python",
   "nbconvert_exporter": "python",
   "pygments_lexer": "ipython3",
   "version": "3.10.13"
  }
 },
 "nbformat": 4,
 "nbformat_minor": 2
}
