{
 "cells": [
  {
   "cell_type": "code",
   "execution_count": null,
   "metadata": {},
   "outputs": [],
   "source": [
    "import sys\n",
    "import numpy as np\n",
    "import matplotlib.pyplot as plt\n",
    "sys.path.append(r\"C:\\Users\\DGaard\\Desktop\\Gits\\MoleculeSim\\ownSim\")\n",
    "\n",
    "import forces as fc\n",
    "import molecules as mc\n",
    "import img3dto2d as i32\n",
    "import random"
   ]
  },
  {
   "cell_type": "code",
   "execution_count": null,
   "metadata": {},
   "outputs": [],
   "source": [
    "points = [\n",
    "    np.array([50, 50, 50]),\n",
    "    np.array([10, 50, 50]),\n",
    "    np.array([50, 10, 50])\n",
    "]\n",
    "points2d = np.array(points)[:,:2]\n",
    "radii = np.array([10,10,10])\n",
    "\n",
    "p2dr = list(zip(points2d,radii))\n",
    "\n",
    "print(points2d)\n",
    "print(p2dr)\n",
    "\n",
    "\n",
    "size = 100\n",
    "img_size = (size,size)\n",
    "\n",
    "\n"
   ]
  },
  {
   "cell_type": "code",
   "execution_count": null,
   "metadata": {},
   "outputs": [],
   "source": [
    "def plot_sphere(img, x, y, radius):\n",
    "    for i in range(max(0, int(x - radius)), min(img.shape[1], int(x + radius + 1))):\n",
    "        for j in range(max(0, int(y - radius)), min(img.shape[0], int(y + radius + 1))):\n",
    "            if (i - x)**2 + (j - y)**2 <= radius**2:\n",
    "                img[i, j] = 1\n",
    "\n",
    "def gaussian(x, y, x0, y0, sigma):\n",
    "    return np.exp(-((x - x0)**2 + (y - y0)**2) / (2 * sigma**2))\n",
    "\n",
    "def plot_sphere_gauss(img, x, y, radius,sigma):\n",
    "    for i in range(max(0, int(x - radius)), min(img.shape[1], int(x + radius + 1))):\n",
    "        for j in range(max(0, int(y - radius)), min(img.shape[0], int(y + radius + 1))):\n",
    "            if (i - x)**2 + (j - y)**2 <= radius**2:\n",
    "                img[i, j] += gaussian(i, j, x, y, sigma)\n",
    "\n",
    "img = np.zeros(img_size)\n",
    "img_gauss = np.zeros(img_size)\n",
    "sigma_scale = 3\n",
    "\n",
    "for i,((x,y),r) in enumerate(p2dr):\n",
    "  plot_sphere(img,x,y,r)\n",
    "\n",
    "for i,((x,y),r) in enumerate(p2dr):\n",
    "  plot_sphere_gauss(img_gauss,x,y,r,r/sigma_scale)\n",
    "\n",
    "plt.subplot(1,2,1)\n",
    "plt.imshow(img,cmap=\"gray\")\n",
    "plt.subplot(1,2,2)\n",
    "plt.imshow(img_gauss,cmap=\"gray\")\n",
    "plt.show()"
   ]
  },
  {
   "cell_type": "code",
   "execution_count": null,
   "metadata": {},
   "outputs": [],
   "source": [
    "#define universe\n",
    "box_const_size = 10000\n",
    "box_size = np.array([box_const_size,box_const_size,box_const_size]) #max coordinate values for universe\n",
    "num_molecules = 20\n",
    "num_steps = 1000\n",
    "radius  = 100\n",
    "radii = [radius for _ in range(num_molecules)]\n",
    "\n",
    "#other setup\n",
    "seed = 1313\n",
    "\n",
    "uni = mc.SimpleUniverse(box_size,num_molecules,radii,seed,own_molecules=None)\n"
   ]
  },
  {
   "cell_type": "code",
   "execution_count": null,
   "metadata": {},
   "outputs": [],
   "source": [
    "img_size = (10000,10000)\n",
    "\n",
    "pd2r_2 = i32.get_points2d(uni) \n",
    "img2 = i32.get_3d_to_2d_img(pd2r_2,img_size)\n",
    "img_gauss2 = i32.get_3d_to_2d_img_gauss(pd2r_2,img_size,3)\n",
    "\n",
    "plt.figure(figsize=(8,8))\n",
    "plt.subplot(1,2,1)\n",
    "plt.title(\"Ortographic projection in z (circle)\")\n",
    "plt.imshow(img2,cmap=\"gray\")\n",
    "plt.subplot(1,2,2)\n",
    "plt.title(\"Ortographic projection in z (Gauss)\")\n",
    "plt.imshow(img_gauss2,cmap=\"gray\")\n",
    "plt.show()"
   ]
  },
  {
   "cell_type": "code",
   "execution_count": 2,
   "metadata": {},
   "outputs": [
    {
     "name": "stdout",
     "output_type": "stream",
     "text": [
      "[[50 50]\n",
      " [10 50]\n",
      " [50 10]]\n",
      "[(array([50, 50]), 10), (array([10, 50]), 10), (array([50, 10]), 10)]\n"
     ]
    }
   ],
   "source": [
    "points = [\n",
    "    np.array([50, 50, 50]),\n",
    "    np.array([10, 50, 50]),\n",
    "    np.array([50, 10, 50])\n",
    "]\n",
    "points2d = np.array(points)[:,:2]\n",
    "radii = np.array([10,10,10])\n",
    "\n",
    "p2dr = list(zip(points2d,radii))\n",
    "\n",
    "print(points2d)\n",
    "print(p2dr)\n",
    "\n",
    "\n",
    "size = 100\n",
    "img_size = (size,size)\n",
    "\n",
    "\n"
   ]
  },
  {
   "cell_type": "code",
   "execution_count": 4,
   "metadata": {},
   "outputs": [],
   "source": [
    "#define universe\n",
    "box_const_size = 10000\n",
    "box_size = np.array([box_const_size,box_const_size,box_const_size]) #max coordinate values for universe\n",
    "num_molecules = 20\n",
    "num_steps = 1000\n",
    "radius  = 100\n",
    "radii = [radius for _ in range(num_molecules)]\n",
    "\n",
    "#other setup\n",
    "seed = 1313\n",
    "\n",
    "uni = mc.SimpleUniverse(box_size,num_molecules,radii,seed,own_molecules=None)\n"
   ]
  },
  {
   "cell_type": "code",
   "execution_count": 6,
   "metadata": {},
   "outputs": [
    {
     "data": {
      "image/png": "[encoded data removed]",
      "text/plain": [
       "<Figure size 800x800 with 2 Axes>"
      ]
     },
     "metadata": {},
     "output_type": "display_data"
    }
   ],
   "source": [
    "i32.plot_universe_in_2d(uni)"
   ]
  }
 ],
 "metadata": {
  "kernelspec": {
   "display_name": "ost3",
   "language": "python",
   "name": "python3"
  },
  "language_info": {
   "codemirror_mode": {
    "name": "ipython",
    "version": 3
   },
   "file_extension": ".py",
   "mimetype": "text/x-python",
   "name": "python",
   "nbconvert_exporter": "python",
   "pygments_lexer": "ipython3",
   "version": "3.10.13"
  }
 },
 "nbformat": 4,
 "nbformat_minor": 2
}
