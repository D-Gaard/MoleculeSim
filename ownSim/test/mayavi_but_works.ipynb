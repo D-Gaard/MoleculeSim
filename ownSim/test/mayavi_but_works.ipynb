{
 "cells": [
  {
   "cell_type": "code",
   "execution_count": 1,
   "metadata": {},
   "outputs": [
    {
     "name": "stdout",
     "output_type": "stream",
     "text": [
      "4.8.1\n",
      "6.4.3\n",
      "vtkVersion (00000287F7A47460)\n",
      "  Debug: Off\n",
      "  Modified Time: 75\n",
      "  Reference Count: 1\n",
      "  Registered Events: (none)\n",
      "\n",
      "\n"
     ]
    }
   ],
   "source": [
    "import mayavi\n",
    "print(mayavi.__version__)\n",
    "import traits\n",
    "print(traits.__version__)\n",
    "import vtk\n",
    "print(vtk.vtkVersion())\n",
    "from mayavi import mlab\n",
    "import numpy as np"
   ]
  },
  {
   "cell_type": "code",
   "execution_count": 2,
   "metadata": {},
   "outputs": [],
   "source": [
    "import sys\n",
    "import numpy as np\n",
    "import matplotlib.pyplot as plt\n",
    "sys.path.append(r\"C:\\Users\\EmilR\\Documents\\GitHub\\MoleculeSim\\ownSim\")\n",
    "\n",
    "import forces as fc\n",
    "import molecules as mc\n",
    "import random"
   ]
  },
  {
   "cell_type": "code",
   "execution_count": 3,
   "metadata": {},
   "outputs": [],
   "source": [
    "points = np.array([[[0,0,0],[0,0,300],[0,0,600]],[[0,0,300],[0,0,600],[0,0,900]]])"
   ]
  },
  {
   "cell_type": "code",
   "execution_count": 5,
   "metadata": {},
   "outputs": [],
   "source": [
    "from __future__ import absolute_import, division, print_function\n",
    "from mayavi import mlab\n",
    "import numpy as np\n",
    "import math\n",
    "\n",
    "alpha = np.linspace(0, 2*math.pi, 100)  \n",
    "\n",
    "\n",
    "# xs = np.array(points[:][:][0]).reshape((num_steps,num_molecules))\n",
    "# ys = np.array(points[:][:][1]).reshape((num_steps,num_molecules))\n",
    "# zs = np.array(points[:][:][2]).reshape((num_steps,num_molecules))\n",
    "\n",
    "#mlab.points3d(0,0,0)\n",
    "#plt = mlab.points3d(points[0][:][0], points[0][:,1], points[0][:,2])\n",
    "mlab.clf()\n",
    "plt = mlab.points3d([0,0,0], [0,0,0], [0,300,600])\n",
    "text_actor = mlab.text3d(600,600,600, text = \"Frame something\", scale = 300)\n",
    "@mlab.animate(delay=1000, ui = True)\n",
    "def anim():\n",
    "    f = mlab.gcf()\n",
    "    while True:\n",
    "        for step in range(2):\n",
    "            temp = \"step: \" + str(step)\n",
    "            #print(temp, end = \"\\r\")\n",
    "            x = points[step][:, 0]\n",
    "            y = points[step][:, 1]\n",
    "            z = points[step][:, 2]\n",
    "            plt.mlab_source.set(x=x, y=y, z=z)\n",
    "            text_actor.text = temp\n",
    "            yield\n",
    "\n",
    "\n",
    "anim()\n",
    "mlab.show()"
   ]
  }
 ],
 "metadata": {
  "kernelspec": {
   "display_name": "OSTV2",
   "language": "python",
   "name": "python3"
  },
  "language_info": {
   "codemirror_mode": {
    "name": "ipython",
    "version": 3
   },
   "file_extension": ".py",
   "mimetype": "text/x-python",
   "name": "python",
   "nbconvert_exporter": "python",
   "pygments_lexer": "ipython3",
   "version": "3.10.13"
  }
 },
 "nbformat": 4,
 "nbformat_minor": 2
}
