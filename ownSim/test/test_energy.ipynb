{
 "cells": [
  {
   "cell_type": "code",
   "execution_count": 1,
   "metadata": {},
   "outputs": [],
   "source": [
    "#IMPORTS \n",
    "import sys\n",
    "import numpy as np\n",
    "import matplotlib.pyplot as plt\n",
    "sys.path.append(r\"C:\\Users\\EmilR\\Documents\\GitHub\\MoleculeSim\\ownSim\")\n",
    "\n",
    "import forces as fc\n",
    "import molecules as mc\n",
    "import random\n",
    "import copy"
   ]
  },
  {
   "cell_type": "code",
   "execution_count": 2,
   "metadata": {},
   "outputs": [],
   "source": [
    "samples = 100\n",
    "# function to yield energies and step acceptance for different distances between 2 molecules\n",
    "def test_step_acceptance(mol1,mol2, universe):\n",
    "  e_current = mc.get_energy(mol1, universe)\n",
    "  inter = mc.inter_dist(mol1,mol2)\n",
    "  print(inter)\n",
    "  dists = np.linspace(0.1,inter, samples) # evenly spaced distances between\n",
    "  delta_moves = [(mol2.pos - mol1.pos) - np.array([0.,0.,mol2.radius]) - np.array([0.,0.,mol1.radius]) - np.array([0.,0.,dist]) for dist in dists][::-1]\n",
    "  energies = []\n",
    "  accepts = []\n",
    "  for move in delta_moves:  \n",
    "      mol_copy = copy.deepcopy(mol1)\n",
    "      #print(type(move[0]))\n",
    "      #print(type(mol1.pos[0]))\n",
    "      mol_copy.move(move)\n",
    "\n",
    "      #calculate energy for potential new location\n",
    "      e_new = mc.get_energy(mol1, universe, mol_copy)\n",
    "\n",
    "      # if move is accepted, make the real molecule perform the step\n",
    "      accepted = fc.accept_move(e_current,e_new, mc.BETA)\n",
    "\n",
    "      energies.append(e_new)\n",
    "      accepts.append(accepted)\n",
    "  \n",
    "  return e_current, energies, accepts"
   ]
  },
  {
   "cell_type": "code",
   "execution_count": 3,
   "metadata": {},
   "outputs": [
    {
     "name": "stdout",
     "output_type": "stream",
     "text": [
      "25.0\n"
     ]
    },
    {
     "ename": "ValueError",
     "evalue": "<molecules.Molecule object at 0x000001CE3879AE00> is not in list",
     "output_type": "error",
     "traceback": [
      "\u001b[1;31m---------------------------------------------------------------------------\u001b[0m",
      "\u001b[1;31mValueError\u001b[0m                                Traceback (most recent call last)",
      "Cell \u001b[1;32mIn[3], line 12\u001b[0m\n\u001b[0;32m      9\u001b[0m uni \u001b[38;5;241m=\u001b[39m mc\u001b[38;5;241m.\u001b[39mSimpleUniverse(box_size, num_molecules,[],seed,own_molecules\u001b[38;5;241m=\u001b[39m[mol1,mol2])\n\u001b[0;32m     11\u001b[0m \u001b[38;5;66;03m# get metrics\u001b[39;00m\n\u001b[1;32m---> 12\u001b[0m e_current, energy, accepts \u001b[38;5;241m=\u001b[39m \u001b[43mtest_step_acceptance\u001b[49m\u001b[43m(\u001b[49m\u001b[43mmol1\u001b[49m\u001b[43m,\u001b[49m\u001b[43mmol2\u001b[49m\u001b[43m,\u001b[49m\u001b[43m \u001b[49m\u001b[43muni\u001b[49m\u001b[43m)\u001b[49m\n",
      "Cell \u001b[1;32mIn[2], line 18\u001b[0m, in \u001b[0;36mtest_step_acceptance\u001b[1;34m(mol1, mol2, universe)\u001b[0m\n\u001b[0;32m     15\u001b[0m mol_copy\u001b[38;5;241m.\u001b[39mmove(move)\n\u001b[0;32m     17\u001b[0m \u001b[38;5;66;03m#calculate energy for potential new location\u001b[39;00m\n\u001b[1;32m---> 18\u001b[0m e_new \u001b[38;5;241m=\u001b[39m \u001b[43mmc\u001b[49m\u001b[38;5;241;43m.\u001b[39;49m\u001b[43mget_energy\u001b[49m\u001b[43m(\u001b[49m\u001b[43mmol_copy\u001b[49m\u001b[43m,\u001b[49m\u001b[43m \u001b[49m\u001b[43muniverse\u001b[49m\u001b[43m,\u001b[49m\u001b[43m \u001b[49m\u001b[43mmol_copy\u001b[49m\u001b[43m)\u001b[49m\n\u001b[0;32m     20\u001b[0m \u001b[38;5;66;03m# if move is accepted, make the real molecule perform the step\u001b[39;00m\n\u001b[0;32m     21\u001b[0m accepted \u001b[38;5;241m=\u001b[39m fc\u001b[38;5;241m.\u001b[39maccept_move(e_current,e_new, mc\u001b[38;5;241m.\u001b[39mBETA)\n",
      "File \u001b[1;32m~\\Documents\\GitHub\\MoleculeSim\\ownSim\\molecules.py:52\u001b[0m, in \u001b[0;36mget_energy\u001b[1;34m(mol_fixed, universe, mol_moved)\u001b[0m\n\u001b[0;32m     51\u001b[0m \u001b[38;5;28;01mdef\u001b[39;00m \u001b[38;5;21mget_energy\u001b[39m(mol_fixed, universe, mol_moved \u001b[38;5;241m=\u001b[39m \u001b[38;5;28;01mNone\u001b[39;00m): \u001b[38;5;66;03m#compute the energy of all molecules with respect to\u001b[39;00m\n\u001b[1;32m---> 52\u001b[0m   idx \u001b[38;5;241m=\u001b[39m \u001b[43muniverse\u001b[49m\u001b[38;5;241;43m.\u001b[39;49m\u001b[43mmolecules\u001b[49m\u001b[38;5;241;43m.\u001b[39;49m\u001b[43mindex\u001b[49m\u001b[43m(\u001b[49m\u001b[43mmol_fixed\u001b[49m\u001b[43m)\u001b[49m\n\u001b[0;32m     53\u001b[0m   nbs \u001b[38;5;241m=\u001b[39m [m \u001b[38;5;28;01mfor\u001b[39;00m m \u001b[38;5;129;01min\u001b[39;00m universe\u001b[38;5;241m.\u001b[39mmolecules]\n\u001b[0;32m     54\u001b[0m   \u001b[38;5;28;01mdel\u001b[39;00m nbs[idx]\n",
      "\u001b[1;31mValueError\u001b[0m: <molecules.Molecule object at 0x000001CE3879AE00> is not in list"
     ]
    }
   ],
   "source": [
    "#define universe\n",
    "box_const_size = 500\n",
    "box_size = np.array([box_const_size,box_const_size,box_const_size]) #max coordinate values for universe\n",
    "num_molecules = 2\n",
    "seed = 1313\n",
    "\n",
    "# create 2 mole universe\n",
    "mol1, mol2 = mc.Molecule(np.array([100.,100.,100.]), 100.), mc.Molecule(np.array([100.,100.,325.]), 100.)\n",
    "uni = mc.SimpleUniverse(box_size, num_molecules,[],seed,own_molecules=[mol1,mol2])\n",
    "\n",
    "# get metrics\n",
    "e_current, energy, accepts = test_step_acceptance(mol1,mol2, uni)"
   ]
  },
  {
   "cell_type": "code",
   "execution_count": null,
   "metadata": {},
   "outputs": [],
   "source": [
    "# m1 = np.array([100.,100.,100.])\n",
    "# m2 = np.array([100.,100.,325.])\n",
    "# dif = m2-m1\n",
    "# norm = np.sqrt(np.sum(dif**2))\n",
    "# print(norm)\n",
    "# print(dif)\n",
    "# print(np.linalg.norm(m2-m1))"
   ]
  },
  {
   "cell_type": "code",
   "execution_count": null,
   "metadata": {},
   "outputs": [],
   "source": [
    "### THIS FUCNTION SHOULD NOT GIVE A WARNING\n",
    "import warnings\n",
    "\n",
    "def get_acc(ePrev,eNew,Beta):\n",
    "  prob = np.exp(-Beta*(eNew- ePrev))\n",
    "  #print(\"prob: \", prob)\n",
    "  # print(\"B\", Beta)\n",
    "  # print(\"prev\", ePrev)\n",
    "  # print(\"new\",eNew)\n",
    "  #return min(1,prob)\n",
    "  return prob\n",
    "    "
   ]
  },
  {
   "cell_type": "code",
   "execution_count": null,
   "metadata": {},
   "outputs": [
    {
     "name": "stdout",
     "output_type": "stream",
     "text": [
      "[100. 100. 100.]\n",
      "[100. 100. 325.]\n"
     ]
    }
   ],
   "source": [
    "print(uni.molecules[0].pos)\n",
    "print(uni.molecules[1].pos)"
   ]
  },
  {
   "cell_type": "code",
   "execution_count": null,
   "metadata": {},
   "outputs": [],
   "source": [
    "# forces = fc.total_force_molecule(mol1,mol2)\n",
    "# ep = mc.get_energy(mol1, uni)\n",
    "# print(forces)\n",
    "# print(ep)\n",
    "# mol1.move(np.array([0,0,23]))\n",
    "\n",
    "# forces = fc.total_force_molecule(mol1,mol2)\n",
    "# ep = mc.get_energy(mol1, uni)\n",
    "# print(forces)\n",
    "# print(ep)\n",
    "\n",
    "\n",
    "\n",
    "\n"
   ]
  },
  {
   "cell_type": "code",
   "execution_count": null,
   "metadata": {},
   "outputs": [
    {
     "name": "stdout",
     "output_type": "stream",
     "text": [
      "25.0\n",
      "[ 0.1         0.35151515  0.6030303   0.85454545  1.10606061  1.35757576\n",
      "  1.60909091  1.86060606  2.11212121  2.36363636  2.61515152  2.86666667\n",
      "  3.11818182  3.36969697  3.62121212  3.87272727  4.12424242  4.37575758\n",
      "  4.62727273  4.87878788  5.13030303  5.38181818  5.63333333  5.88484848\n",
      "  6.13636364  6.38787879  6.63939394  6.89090909  7.14242424  7.39393939\n",
      "  7.64545455  7.8969697   8.14848485  8.4         8.65151515  8.9030303\n",
      "  9.15454545  9.40606061  9.65757576  9.90909091 10.16060606 10.41212121\n",
      " 10.66363636 10.91515152 11.16666667 11.41818182 11.66969697 11.92121212\n",
      " 12.17272727 12.42424242 12.67575758 12.92727273 13.17878788 13.43030303\n",
      " 13.68181818 13.93333333 14.18484848 14.43636364 14.68787879 14.93939394\n",
      " 15.19090909 15.44242424 15.69393939 15.94545455 16.1969697  16.44848485\n",
      " 16.7        16.95151515 17.2030303  17.45454545 17.70606061 17.95757576\n",
      " 18.20909091 18.46060606 18.71212121 18.96363636 19.21515152 19.46666667\n",
      " 19.71818182 19.96969697 20.22121212 20.47272727 20.72424242 20.97575758\n",
      " 21.22727273 21.47878788 21.73030303 21.98181818 22.23333333 22.48484848\n",
      " 22.73636364 22.98787879 23.23939394 23.49090909 23.74242424 23.99393939\n",
      " 24.24545455 24.4969697  24.74848485 25.        ]\n",
      "[1.0, inf, inf, inf, inf, inf, inf, inf, inf, inf, inf, inf, inf, inf, inf, inf, inf, inf, inf, inf, inf, inf, inf, inf, inf, inf, inf, inf, inf, inf, inf, inf, inf, inf, inf, inf, inf, inf, inf, inf, inf, inf, inf, inf, inf, inf, inf, inf, inf, inf, inf, inf, inf, inf, inf, inf, inf, inf, inf, inf, inf, inf, inf, inf, 0.0, 0.0, 0.0, 0.0, 0.0, 0.0, 0.0, 0.0, 0.0, 0.0, 0.0, 0.0, 0.0, 0.0, 0.0, 0.0, 0.0, 0.0, 0.0, 0.0, 0.0, 0.0, 0.0, 0.0, 0.0, 0.0, 0.0, 0.0, 0.0, 0.0, 0.0, 0.0, 0.0, 0.0, 0.0, 0.0]\n"
     ]
    },
    {
     "name": "stderr",
     "output_type": "stream",
     "text": [
      "C:\\Users\\EmilR\\AppData\\Local\\Temp\\ipykernel_34504\\3307302905.py:5: RuntimeWarning: overflow encountered in exp\n",
      "  prob = np.exp(-Beta*(eNew- ePrev))\n"
     ]
    },
    {
     "data": {
      "image/png": "[encoded data removed]",
      "text/plain": [
       "<Figure size 640x480 with 1 Axes>"
      ]
     },
     "metadata": {},
     "output_type": "display_data"
    }
   ],
   "source": [
    "#Plot relationship between interdistance and energy\n",
    "inter = mc.inter_dist(mol1,mol2)\n",
    "print(inter)\n",
    "dists = np.linspace(0.1,inter, samples)\n",
    "print(dists)\n",
    "acc_rate = [get_acc(e_current,e, mc.BETA) for e in energy]\n",
    "print(acc_rate)\n",
    "plt.figure()\n",
    "#plt.plot(dists,acc_rate, label = \"acceptance probability for given distance\")\n",
    "plt.plot(dists, energy, label = \"Energy for given distance\")\n",
    "plt.xlim([0,25])\n",
    "plt.legend()\n",
    "plt.show()\n"
   ]
  },
  {
   "cell_type": "code",
   "execution_count": null,
   "metadata": {},
   "outputs": [],
   "source": [
    "forces = fc.total_force_molecule(mol1,mol2)\n",
    "# ep = mc.get_energy(mol1, uni)\n",
    "# print(forces)\n",
    "# print(ep)\n",
    "# mol1.move(np.array([0,0,23]))\n",
    "\n",
    "# forces = fc.total_force_molecule(mol1,mol2)\n",
    "# ep = mc.get_energy(mol1, uni)\n",
    "# print(forces)\n",
    "# print(ep)\n"
   ]
  },
  {
   "cell_type": "code",
   "execution_count": null,
   "metadata": {},
   "outputs": [
    {
     "name": "stdout",
     "output_type": "stream",
     "text": [
      "[100. 100. 100.]\n",
      "[100. 100. 325.]\n",
      "[100. 100. 100.]\n",
      "[100. 100. 325.]\n"
     ]
    }
   ],
   "source": [
    "print(uni.molecules[0].pos)\n",
    "print(uni.molecules[1].pos)\n",
    "print(mol1.pos)\n",
    "print(mol2.pos)"
   ]
  },
  {
   "cell_type": "code",
   "execution_count": null,
   "metadata": {},
   "outputs": [],
   "source": [
    "def pls_work(mol_fixed, mol_moved, universe): #compute the energy of all molecules with respect to\n",
    "  idx = universe.molecules.index(mol_fixed)\n",
    "  nbs = [m for m in universe.molecules]\n",
    "  del nbs[idx]\n",
    "  energy = sum([fc.total_force_molecule(mol_moved,m2) for m2 in nbs])\n",
    "  return energy"
   ]
  },
  {
   "cell_type": "code",
   "execution_count": null,
   "metadata": {},
   "outputs": [
    {
     "name": "stdout",
     "output_type": "stream",
     "text": [
      "11.25565253970488\n"
     ]
    }
   ],
   "source": [
    "m1_copy = copy.deepcopy(mol1)\n",
    "\n",
    "# x = pls_work(mol1,m1_copy, uni)\n",
    "# print(x)\n",
    "\n",
    "m1_copy.move(np.array([0.,0.,23.]))\n",
    "x = pls_work(mol1,m1_copy, uni)\n",
    "print(x)"
   ]
  }
 ],
 "metadata": {
  "kernelspec": {
   "display_name": "ost3",
   "language": "python",
   "name": "python3"
  },
  "language_info": {
   "codemirror_mode": {
    "name": "ipython",
    "version": 3
   },
   "file_extension": ".py",
   "mimetype": "text/x-python",
   "name": "python",
   "nbconvert_exporter": "python",
   "pygments_lexer": "ipython3",
   "version": "3.10.13"
  }
 },
 "nbformat": 4,
 "nbformat_minor": 2
}
