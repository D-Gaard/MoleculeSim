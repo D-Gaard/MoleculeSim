{
 "cells": [
  {
   "cell_type": "code",
   "execution_count": 49,
   "metadata": {},
   "outputs": [],
   "source": [
    "#IMPORTS \n",
    "import sys\n",
    "import numpy as np\n",
    "import matplotlib.pyplot as plt\n",
    "sys.path.append(r\"C:\\Users\\DGaard\\Desktop\\Gits\\MoleculeSim\\ownSim\")\n",
    "\n",
    "import forces as fc\n",
    "import molecules as mc\n",
    "import random\n",
    "import copy"
   ]
  },
  {
   "cell_type": "code",
   "execution_count": 50,
   "metadata": {},
   "outputs": [],
   "source": [
    "\n",
    "# function to yield energies and step acceptance for different distances between 2 molecules\n",
    "def test_step_acceptance(mol1,mol2, universe):\n",
    "  e_current = mc.get_energy(mol1, universe)\n",
    "\n",
    "  inter = mc.inter_dist(mol1,mol2)\n",
    "  dists = np.linspace(0.1,inter, 20) # evenly spaced distances between\n",
    "  delta_moves = [(mol2.pos - mol1.pos - mol2.radius - mol1.radius)/dist for dist in dists] #get possible steps\n",
    "  \n",
    "  energies = []\n",
    "  accepts = []\n",
    "  for move in delta_moves:  \n",
    "      mol_copy = copy.deepcopy(mol1)\n",
    "      #print(type(move[0]))\n",
    "      #print(type(mol1.pos[0]))\n",
    "      mol_copy.move(move)\n",
    "\n",
    "      #calculate energy for potential new location\n",
    "      e_new = mc.get_energy(mol_copy,universe)\n",
    "\n",
    "      # if move is accepted, make the real molecule perform the step\n",
    "      accepted = fc.accept_move(e_current,e_new, mc.BETA)\n",
    "\n",
    "      energies.append(e_new)\n",
    "      accepts.append(accepted)\n",
    "  \n",
    "  return e_current, energies, accepts"
   ]
  },
  {
   "cell_type": "code",
   "execution_count": 51,
   "metadata": {},
   "outputs": [],
   "source": [
    "#define universe\n",
    "box_const_size = 500\n",
    "box_size = np.array([box_const_size,box_const_size,box_const_size]) #max coordinate values for universe\n",
    "num_molecules = 2\n",
    "seed = 1313\n",
    "\n",
    "# create 2 mole universe\n",
    "mol1, mol2 = mc.Molecule(np.array([100.,100.,100.]), 100.), mc.Molecule(np.array([400.,400.,400.]), 100.)\n",
    "uni = mc.SimpleUniverse(box_size, num_molecules,[],seed,own_molecules=[mol1,mol2])\n",
    "\n",
    "# get metrics\n",
    "e_current, energy, accepts = test_step_acceptance(mol1,mol2, uni)"
   ]
  },
  {
   "cell_type": "code",
   "execution_count": 59,
   "metadata": {},
   "outputs": [
    {
     "ename": "SyntaxError",
     "evalue": "invalid syntax (494507053.py, line 5)",
     "output_type": "error",
     "traceback": [
      "\u001b[1;36m  Cell \u001b[1;32mIn[59], line 5\u001b[1;36m\u001b[0m\n\u001b[1;33m    prob = np.exp(-Beta*(ePrev-eNew))cept OverflowError:\u001b[0m\n\u001b[1;37m                                     ^\u001b[0m\n\u001b[1;31mSyntaxError\u001b[0m\u001b[1;31m:\u001b[0m invalid syntax\n"
     ]
    }
   ],
   "source": [
    "### THIS FUCNTION SHOULD NOT GIVE A WARNING\n",
    "\n",
    "def get_acc(ePrev,eNew,Beta):\n",
    "  try:\n",
    "    prob = np.exp(-Beta*(ePrev-eNew))cept OverflowError:\n",
    "    return 1\n",
    "  return min(1,prob)\n",
    "    "
   ]
  },
  {
   "cell_type": "code",
   "execution_count": 58,
   "metadata": {},
   "outputs": [
    {
     "ename": "SyntaxError",
     "evalue": "invalid syntax (686514272.py, line 2)",
     "output_type": "error",
     "traceback": [
      "\u001b[1;36m  Cell \u001b[1;32mIn[58], line 2\u001b[1;36m\u001b[0m\n\u001b[1;33m    inter = mc.inter_dist(mol1,mol2)dists = np.linspace(0,inter, 20)\u001b[0m\n\u001b[1;37m                                    ^\u001b[0m\n\u001b[1;31mSyntaxError\u001b[0m\u001b[1;31m:\u001b[0m invalid syntax\n"
     ]
    }
   ],
   "source": [
    "#Plot relationship between interdistance and energy\n",
    "inter = mc.inter_dist(mol1,mol2)dists = np.linspace(0,inter, 20)\n",
    "acc_rate = [get_acc(e_current,e, mc.BETA) for e in energy]\n",
    "plt.figure()\n",
    "#plt.plot(dists, energy)\n",
    "plt.plot(dists,acc_rate)\n",
    "plt.show()\n"
   ]
  }
 ],
 "metadata": {
  "kernelspec": {
   "display_name": "ost3",
   "language": "python",
   "name": "python3"
  },
  "language_info": {
   "codemirror_mode": {
    "name": "ipython",
    "version": 3
   },
   "file_extension": ".py",
   "mimetype": "text/x-python",
   "name": "python",
   "nbconvert_exporter": "python",
   "pygments_lexer": "ipython3",
   "version": "3.10.13"
  }
 },
 "nbformat": 4,
 "nbformat_minor": 2
}
