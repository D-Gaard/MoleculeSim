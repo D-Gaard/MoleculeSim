{
 "cells": [
  {
   "cell_type": "code",
   "execution_count": null,
   "metadata": {},
   "outputs": [],
   "source": [
    "samples = 100\n",
    "# function to yield energies and step acceptance for different distances between 2 molecules\n",
    "def test_step_acceptance(mol1,mol2, universe):\n",
    "  e_current = mc.get_energy(mol1, universe)\n",
    "  inter = mc.inter_dist(mol1,mol2)\n",
    "  print(inter)\n",
    "  dists = np.linspace(0.1,inter, samples) # evenly spaced distances between\n",
    "  delta_moves = [(mol2.pos - mol1.pos) - np.array([0.,0.,mol2.radius]) - np.array([0.,0.,mol1.radius]) - np.array([0.,0.,dist]) for dist in dists][::-1]\n",
    "  print(delta_moves)\n",
    "  energies = []\n",
    "  accepts = []\n",
    "  for move in delta_moves:  \n",
    "      mol_copy = copy.deepcopy(mol1)\n",
    "      #print(type(move[0]))\n",
    "      #print(type(mol1.pos[0]))\n",
    "      mol_copy.move(move)\n",
    "\n",
    "      #calculate energy for potential new location\n",
    "      e_new = mc.get_energy(mol1, universe, mol_copy)\n",
    "\n",
    "      # if move is accepted, make the real molecule perform the step\n",
    "      accepted = fc.accept_move(e_current,e_new, mc.BETA)\n",
    "\n",
    "      energies.append(e_new)\n",
    "      accepts.append(accepted)\n",
    "  \n",
    "  return e_current, energies, accepts"
   ]
  },
  {
   "cell_type": "code",
   "execution_count": null,
   "metadata": {},
   "outputs": [],
   "source": [
    "orces = fc.total_force_molecule(mol1,mol2)\n",
    "# ep = mc.get_energy(mol1, uni)\n",
    "print(forces)\n",
    "# print(ep)\n",
    "# mol1.move(np.array([0,0,23]))\n",
    "\n",
    "# forces = fc.total_force_molecule(mol1,mol2)\n",
    "# ep = mc.get_energy(mol1, uni)\n",
    "# print(forces)\n",
    "# print(ep)\n",
    "\n",
    "\n",
    "\n",
    "\n"
   ]
  },
  {
   "cell_type": "code",
   "execution_count": null,
   "metadata": {},
   "outputs": [],
   "source": [
    "forces = fc.total_force_molecule(mol1,mol2)\n",
    "# ep = mc.get_energy(mol1, uni)\n",
    "# print(forces)\n",
    "# print(ep)\n",
    "# mol1.move(np.array([0,0,23]))\n",
    "\n",
    "# forces = fc.total_force_molecule(mol1,mol2)\n",
    "# ep = mc.get_energy(mol1, uni)\n",
    "# print(forces)\n",
    "# print(ep)\n"
   ]
  }
 ],
 "metadata": {
  "kernelspec": {
   "display_name": "ost3",
   "language": "python",
   "name": "python3"
  },
  "language_info": {
   "codemirror_mode": {
    "name": "ipython",
    "version": 3
   },
   "file_extension": ".py",
   "mimetype": "text/x-python",
   "name": "python",
   "nbconvert_exporter": "python",
   "pygments_lexer": "ipython3",
   "version": "3.10.13"
  }
 },
 "nbformat": 4,
 "nbformat_minor": 2
}
