{
 "cells": [
  {
   "cell_type": "code",
   "execution_count": 1,
   "metadata": {},
   "outputs": [],
   "source": [
    "#IMPORTS \n",
    "import sys\n",
    "import numpy as np\n",
    "import matplotlib.pyplot as plt\n",
    "sys.path.append(r\"C:\\Users\\EmilR\\Documents\\GitHub\\MoleculeSim\\ownSim\")\n",
    "\n",
    "import forces as fc\n",
    "import molecules as mc\n",
    "import random\n",
    "import copy"
   ]
  },
  {
   "cell_type": "code",
   "execution_count": 9,
   "metadata": {},
   "outputs": [],
   "source": [
    "samples = 100\n",
    "# function to yield energies and step acceptance for different distances between 2 molecules\n",
    "def test_step_acceptance(mol1,mol2, universe):\n",
    "  e_current = mc.get_energy(mol1, universe)\n",
    "  inter = mc.inter_dist(mol1,mol2)\n",
    "  print(inter)\n",
    "  dists = np.linspace(0.1,inter, samples) # evenly spaced distances between\n",
    "  delta_moves = [(mol2.pos - mol1.pos) - np.array([0.,0.,mol2.radius]) - np.array([0.,0.,mol1.radius]) - np.array([0.,0.,dist]) for dist in dists][::-1]\n",
    "  print(delta_moves)\n",
    "  energies = []\n",
    "  accepts = []\n",
    "  for move in delta_moves:  \n",
    "      mol_copy = copy.deepcopy(mol1)\n",
    "      #print(type(move[0]))\n",
    "      #print(type(mol1.pos[0]))\n",
    "      mol_copy.move(move)\n",
    "\n",
    "      #calculate energy for potential new location\n",
    "      e_new = mc.get_energy(mol1, universe, mol_copy)\n",
    "\n",
    "      # if move is accepted, make the real molecule perform the step\n",
    "      accepted = fc.accept_move(e_current,e_new, mc.BETA)\n",
    "\n",
    "      energies.append(e_new)\n",
    "      accepts.append(accepted)\n",
    "  \n",
    "  return e_current, energies, accepts"
   ]
  },
  {
   "cell_type": "code",
   "execution_count": 10,
   "metadata": {},
   "outputs": [
    {
     "name": "stdout",
     "output_type": "stream",
     "text": [
      "25.0\n",
      "[array([0., 0., 0.]), array([0.        , 0.        , 0.25151515]), array([0.       , 0.       , 0.5030303]), array([0.        , 0.        , 0.75454545]), array([0.        , 0.        , 1.00606061]), array([0.        , 0.        , 1.25757576]), array([0.        , 0.        , 1.50909091]), array([0.        , 0.        , 1.76060606]), array([0.        , 0.        , 2.01212121]), array([0.        , 0.        , 2.26363636]), array([0.        , 0.        , 2.51515152]), array([0.        , 0.        , 2.76666667]), array([0.        , 0.        , 3.01818182]), array([0.        , 0.        , 3.26969697]), array([0.        , 0.        , 3.52121212]), array([0.        , 0.        , 3.77272727]), array([0.        , 0.        , 4.02424242]), array([0.        , 0.        , 4.27575758]), array([0.        , 0.        , 4.52727273]), array([0.        , 0.        , 4.77878788]), array([0.        , 0.        , 5.03030303]), array([0.        , 0.        , 5.28181818]), array([0.        , 0.        , 5.53333333]), array([0.        , 0.        , 5.78484848]), array([0.        , 0.        , 6.03636364]), array([0.        , 0.        , 6.28787879]), array([0.        , 0.        , 6.53939394]), array([0.        , 0.        , 6.79090909]), array([0.        , 0.        , 7.04242424]), array([0.        , 0.        , 7.29393939]), array([0.        , 0.        , 7.54545455]), array([0.       , 0.       , 7.7969697]), array([0.        , 0.        , 8.04848485]), array([0. , 0. , 8.3]), array([0.        , 0.        , 8.55151515]), array([0.       , 0.       , 8.8030303]), array([0.        , 0.        , 9.05454545]), array([0.        , 0.        , 9.30606061]), array([0.        , 0.        , 9.55757576]), array([0.        , 0.        , 9.80909091]), array([ 0.        ,  0.        , 10.06060606]), array([ 0.        ,  0.        , 10.31212121]), array([ 0.        ,  0.        , 10.56363636]), array([ 0.        ,  0.        , 10.81515152]), array([ 0.        ,  0.        , 11.06666667]), array([ 0.        ,  0.        , 11.31818182]), array([ 0.        ,  0.        , 11.56969697]), array([ 0.        ,  0.        , 11.82121212]), array([ 0.        ,  0.        , 12.07272727]), array([ 0.        ,  0.        , 12.32424242]), array([ 0.        ,  0.        , 12.57575758]), array([ 0.        ,  0.        , 12.82727273]), array([ 0.        ,  0.        , 13.07878788]), array([ 0.        ,  0.        , 13.33030303]), array([ 0.        ,  0.        , 13.58181818]), array([ 0.        ,  0.        , 13.83333333]), array([ 0.        ,  0.        , 14.08484848]), array([ 0.        ,  0.        , 14.33636364]), array([ 0.        ,  0.        , 14.58787879]), array([ 0.        ,  0.        , 14.83939394]), array([ 0.        ,  0.        , 15.09090909]), array([ 0.        ,  0.        , 15.34242424]), array([ 0.        ,  0.        , 15.59393939]), array([ 0.        ,  0.        , 15.84545455]), array([ 0.       ,  0.       , 16.0969697]), array([ 0.        ,  0.        , 16.34848485]), array([ 0. ,  0. , 16.6]), array([ 0.        ,  0.        , 16.85151515]), array([ 0.       ,  0.       , 17.1030303]), array([ 0.        ,  0.        , 17.35454545]), array([ 0.        ,  0.        , 17.60606061]), array([ 0.        ,  0.        , 17.85757576]), array([ 0.        ,  0.        , 18.10909091]), array([ 0.        ,  0.        , 18.36060606]), array([ 0.        ,  0.        , 18.61212121]), array([ 0.        ,  0.        , 18.86363636]), array([ 0.        ,  0.        , 19.11515152]), array([ 0.        ,  0.        , 19.36666667]), array([ 0.        ,  0.        , 19.61818182]), array([ 0.        ,  0.        , 19.86969697]), array([ 0.        ,  0.        , 20.12121212]), array([ 0.        ,  0.        , 20.37272727]), array([ 0.        ,  0.        , 20.62424242]), array([ 0.        ,  0.        , 20.87575758]), array([ 0.        ,  0.        , 21.12727273]), array([ 0.        ,  0.        , 21.37878788]), array([ 0.        ,  0.        , 21.63030303]), array([ 0.        ,  0.        , 21.88181818]), array([ 0.        ,  0.        , 22.13333333]), array([ 0.        ,  0.        , 22.38484848]), array([ 0.        ,  0.        , 22.63636364]), array([ 0.        ,  0.        , 22.88787879]), array([ 0.        ,  0.        , 23.13939394]), array([ 0.        ,  0.        , 23.39090909]), array([ 0.        ,  0.        , 23.64242424]), array([ 0.        ,  0.        , 23.89393939]), array([ 0.        ,  0.        , 24.14545455]), array([ 0.       ,  0.       , 24.3969697]), array([ 0.        ,  0.        , 24.64848485]), array([ 0. ,  0. , 24.9])]\n"
     ]
    }
   ],
   "source": [
    "#define universe\n",
    "box_const_size = 500\n",
    "box_size = np.array([box_const_size,box_const_size,box_const_size]) #max coordinate values for universe\n",
    "num_molecules = 2\n",
    "seed = 1313\n",
    "\n",
    "# create 2 mole universe\n",
    "mol1, mol2 = mc.Molecule(np.array([100.,100.,100.]), 100.), mc.Molecule(np.array([100.,100.,325.]), 100.)\n",
    "uni = mc.SimpleUniverse(box_size, num_molecules,[],seed,own_molecules=[mol1,mol2])\n",
    "\n",
    "# get metrics\n",
    "e_current, energy, accepts = test_step_acceptance(mol1,mol2, uni)"
   ]
  },
  {
   "cell_type": "code",
   "execution_count": 19,
   "metadata": {},
   "outputs": [
    {
     "name": "stdout",
     "output_type": "stream",
     "text": [
      "(100,)\n"
     ]
    },
    {
     "data": {
      "image/png": "[encoded data removed]",
      "text/plain": [
       "<Figure size 640x480 with 1 Axes>"
      ]
     },
     "metadata": {},
     "output_type": "display_data"
    }
   ],
   "source": [
    "x = np.linspace(0.00001,3, 100)\n",
    "print(x.shape)\n",
    "plt.figure()\n",
    "#plt.plot(x, energy)\n",
    "plt.plot(x, (energy-e_current)[::-1], label = \"energy difference\")\n",
    "plt.plot(x, [get_prob(e_current,e,1) for e in energy][::-1],label = \"move probability\")\n",
    "plt.yscale(\"log\")\n",
    "plt.xlim([0.00001,3])\n",
    "plt.legend()\n",
    "plt.show()"
   ]
  },
  {
   "cell_type": "code",
   "execution_count": null,
   "metadata": {},
   "outputs": [
    {
     "name": "stdout",
     "output_type": "stream",
     "text": [
      "[100. 100. 100.]\n",
      "[100. 100. 325.]\n"
     ]
    }
   ],
   "source": [
    "print(uni.molecules[0].pos)\n",
    "print(uni.molecules[1].pos)"
   ]
  },
  {
   "cell_type": "code",
   "execution_count": null,
   "metadata": {},
   "outputs": [
    {
     "ename": "NameError",
     "evalue": "name 'forces' is not defined",
     "output_type": "error",
     "traceback": [
      "\u001b[1;31m---------------------------------------------------------------------------\u001b[0m",
      "\u001b[1;31mNameError\u001b[0m                                 Traceback (most recent call last)",
      "Cell \u001b[1;32mIn[9], line 3\u001b[0m\n\u001b[0;32m      1\u001b[0m orces \u001b[38;5;241m=\u001b[39m fc\u001b[38;5;241m.\u001b[39mtotal_force_molecule(mol1,mol2)\n\u001b[0;32m      2\u001b[0m \u001b[38;5;66;03m# ep = mc.get_energy(mol1, uni)\u001b[39;00m\n\u001b[1;32m----> 3\u001b[0m \u001b[38;5;28mprint\u001b[39m(\u001b[43mforces\u001b[49m)\n\u001b[0;32m      4\u001b[0m \u001b[38;5;66;03m# print(ep)\u001b[39;00m\n\u001b[0;32m      5\u001b[0m \u001b[38;5;66;03m# mol1.move(np.array([0,0,23]))\u001b[39;00m\n\u001b[0;32m      6\u001b[0m \n\u001b[1;32m   (...)\u001b[0m\n\u001b[0;32m      9\u001b[0m \u001b[38;5;66;03m# print(forces)\u001b[39;00m\n\u001b[0;32m     10\u001b[0m \u001b[38;5;66;03m# print(ep)\u001b[39;00m\n",
      "\u001b[1;31mNameError\u001b[0m: name 'forces' is not defined"
     ]
    }
   ],
   "source": [
    "orces = fc.total_force_molecule(mol1,mol2)\n",
    "# ep = mc.get_energy(mol1, uni)\n",
    "print(forces)\n",
    "# print(ep)\n",
    "# mol1.move(np.array([0,0,23]))\n",
    "\n",
    "# forces = fc.total_force_molecule(mol1,mol2)\n",
    "# ep = mc.get_energy(mol1, uni)\n",
    "# print(forces)\n",
    "# print(ep)\n",
    "\n",
    "\n",
    "\n",
    "\n"
   ]
  },
  {
   "cell_type": "code",
   "execution_count": null,
   "metadata": {},
   "outputs": [
    {
     "name": "stdout",
     "output_type": "stream",
     "text": [
      "[1.0, inf, inf, inf, inf, inf, inf, inf, inf, inf, inf, inf, inf, inf, inf, inf, inf, inf, inf, inf, inf, inf, inf, inf, inf, inf, inf, inf, inf, inf, inf, inf, inf, inf, inf, inf, inf, inf, inf, inf, inf, inf, inf, inf, inf, inf, inf, inf, inf, inf, inf, inf, inf, inf, inf, inf, inf, inf, inf, inf, inf, inf, inf, inf, 0.0, 0.0, 0.0, 0.0, 0.0, 0.0, 0.0, 0.0, 0.0, 0.0, 0.0, 0.0, 0.0, 0.0, 0.0, 0.0, 0.0, 0.0, 0.0, 0.0, 0.0, 0.0, 0.0, 0.0, 0.0, 0.0, 0.0, 0.0, 0.0, 0.0, 0.0, 0.0, 0.0, 0.0, 0.0, 0.0]\n"
     ]
    },
    {
     "name": "stderr",
     "output_type": "stream",
     "text": [
      "C:\\Users\\EmilR\\AppData\\Local\\Temp\\ipykernel_35380\\3307302905.py:5: RuntimeWarning: overflow encountered in exp\n",
      "  prob = np.exp(-Beta*(eNew- ePrev))\n"
     ]
    }
   ],
   "source": [
    "#Plot relationship between interdistance and energy\n",
    "inter = mc.inter_dist(mol1,mol2)\n",
    "#print(inter)\n",
    "dists = np.linspace(0.1,inter, samples)\n",
    "#print(dists)\n",
    "acc_rate = [get_acc(e_current,e, mc.BETA) for e in energy]\n",
    "print(acc_rate)\n",
    "# plt.figure()\n",
    "# #plt.plot(dists,acc_rate, label = \"acceptance probability for given distance\")\n",
    "# plt.plot(dists, energy, label = \"Energy for given distance\")\n",
    "# plt.xlim([0,25])\n",
    "# plt.legend()\n",
    "# plt.show()\n"
   ]
  },
  {
   "cell_type": "code",
   "execution_count": null,
   "metadata": {},
   "outputs": [],
   "source": [
    "forces = fc.total_force_molecule(mol1,mol2)\n",
    "# ep = mc.get_energy(mol1, uni)\n",
    "# print(forces)\n",
    "# print(ep)\n",
    "# mol1.move(np.array([0,0,23]))\n",
    "\n",
    "# forces = fc.total_force_molecule(mol1,mol2)\n",
    "# ep = mc.get_energy(mol1, uni)\n",
    "# print(forces)\n",
    "# print(ep)\n"
   ]
  },
  {
   "cell_type": "code",
   "execution_count": null,
   "metadata": {},
   "outputs": [
    {
     "name": "stdout",
     "output_type": "stream",
     "text": [
      "[100. 100. 100.]\n",
      "[100. 100. 325.]\n",
      "[100. 100. 100.]\n",
      "[100. 100. 325.]\n"
     ]
    }
   ],
   "source": [
    "print(uni.molecules[0].pos)\n",
    "print(uni.molecules[1].pos)\n",
    "print(mol1.pos)\n",
    "print(mol2.pos)"
   ]
  },
  {
   "cell_type": "code",
   "execution_count": null,
   "metadata": {},
   "outputs": [],
   "source": [
    "def pls_work(mol_fixed, mol_moved, universe): #compute the energy of all molecules with respect to\n",
    "  idx = universe.molecules.index(mol_fixed)\n",
    "  nbs = [m for m in universe.molecules]\n",
    "  del nbs[idx]\n",
    "  energy = sum([fc.total_force_molecule(mol_moved,m2) for m2 in nbs])\n",
    "  return energy"
   ]
  },
  {
   "cell_type": "code",
   "execution_count": null,
   "metadata": {},
   "outputs": [
    {
     "name": "stdout",
     "output_type": "stream",
     "text": [
      "11.25565253970488\n"
     ]
    }
   ],
   "source": [
    "m1_copy = copy.deepcopy(mol1)\n",
    "\n",
    "# x = pls_work(mol1,m1_copy, uni)\n",
    "# print(x)\n",
    "\n",
    "m1_copy.move(np.array([0.,0.,23.]))\n",
    "x = pls_work(mol1,m1_copy, uni)\n",
    "print(x)"
   ]
  }
 ],
 "metadata": {
  "kernelspec": {
   "display_name": "ost3",
   "language": "python",
   "name": "python3"
  },
  "language_info": {
   "codemirror_mode": {
    "name": "ipython",
    "version": 3
   },
   "file_extension": ".py",
   "mimetype": "text/x-python",
   "name": "python",
   "nbconvert_exporter": "python",
   "pygments_lexer": "ipython3",
   "version": "3.10.13"
  }
 },
 "nbformat": 4,
 "nbformat_minor": 2
}
