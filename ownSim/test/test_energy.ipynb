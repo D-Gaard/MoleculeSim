{
 "cells": [
  {
   "cell_type": "code",
   "execution_count": 1,
   "metadata": {},
   "outputs": [],
   "source": [
    "#IMPORTS \n",
    "import sys\n",
    "import numpy as np\n",
    "import matplotlib.pyplot as plt\n",
    "sys.path.append(r\"C:\\Users\\DGaard\\Desktop\\Gits\\MoleculeSim\\ownSim\")\n",
    "#sys.path.append(r\"C:\\Users\\EmilR\\Documents\\GitHub\\MoleculeSim\\ownSim\")\n",
    "\n",
    "import forces as fc\n",
    "import molecules as mc\n",
    "import random\n",
    "import copy"
   ]
  },
  {
   "cell_type": "code",
   "execution_count": 2,
   "metadata": {},
   "outputs": [],
   "source": [
    "samples = 100\n",
    "# function to yield energies and step acceptance for different distances between 2 molecules\n",
    "def test_step_acceptance(mol1,mol2, universe):\n",
    "  e_current = mc.get_energy(mol1, universe)\n",
    "  inter = mc.inter_dist(mol1,mol2)\n",
    "  print(inter)\n",
    "  dists = np.linspace(0,inter, samples) # evenly spaced distances between\n",
    "  delta_moves = [(mol2.pos - mol1.pos) - np.array([0.,0.,mol2.radius]) - np.array([0.,0.,mol1.radius]) - np.array([0.,0.,dist]) for dist in dists][::-1]\n",
    "  print(delta_moves)\n",
    "  energies = []\n",
    "  accepts = []\n",
    "  for move in delta_moves:  \n",
    "      mol_copy = copy.deepcopy(mol1)\n",
    "      #print(type(move[0]))\n",
    "      #print(type(mol1.pos[0]))\n",
    "      mol_copy.move(move)\n",
    "\n",
    "      #calculate energy for potential new location\n",
    "      e_new = mc.get_energy(mol1, universe, mol_copy)\n",
    "\n",
    "      # if move is accepted, make the real molecule perform the step\n",
    "      accepted = fc.accept_move(e_current,e_new, mc.BETA)\n",
    "\n",
    "      energies.append(e_new)\n",
    "      accepts.append(accepted)\n",
    "  \n",
    "  return e_current, energies, accepts"
   ]
  },
  {
   "cell_type": "code",
   "execution_count": 3,
   "metadata": {},
   "outputs": [
    {
     "name": "stdout",
     "output_type": "stream",
     "text": [
      "25.0\n",
      "[array([0., 0., 0.]), array([0.        , 0.        , 0.25252525]), array([0.        , 0.        , 0.50505051]), array([0.        , 0.        , 0.75757576]), array([0.        , 0.        , 1.01010101]), array([0.        , 0.        , 1.26262626]), array([0.        , 0.        , 1.51515152]), array([0.        , 0.        , 1.76767677]), array([0.        , 0.        , 2.02020202]), array([0.        , 0.        , 2.27272727]), array([0.        , 0.        , 2.52525253]), array([0.        , 0.        , 2.77777778]), array([0.        , 0.        , 3.03030303]), array([0.        , 0.        , 3.28282828]), array([0.        , 0.        , 3.53535354]), array([0.        , 0.        , 3.78787879]), array([0.        , 0.        , 4.04040404]), array([0.        , 0.        , 4.29292929]), array([0.        , 0.        , 4.54545455]), array([0.       , 0.       , 4.7979798]), array([0.        , 0.        , 5.05050505]), array([0.       , 0.       , 5.3030303]), array([0.        , 0.        , 5.55555556]), array([0.        , 0.        , 5.80808081]), array([0.        , 0.        , 6.06060606]), array([0.        , 0.        , 6.31313131]), array([0.        , 0.        , 6.56565657]), array([0.        , 0.        , 6.81818182]), array([0.        , 0.        , 7.07070707]), array([0.        , 0.        , 7.32323232]), array([0.        , 0.        , 7.57575758]), array([0.        , 0.        , 7.82828283]), array([0.        , 0.        , 8.08080808]), array([0.        , 0.        , 8.33333333]), array([0.        , 0.        , 8.58585859]), array([0.        , 0.        , 8.83838384]), array([0.        , 0.        , 9.09090909]), array([0.        , 0.        , 9.34343434]), array([0.       , 0.       , 9.5959596]), array([0.        , 0.        , 9.84848485]), array([ 0.       ,  0.       , 10.1010101]), array([ 0.        ,  0.        , 10.35353535]), array([ 0.        ,  0.        , 10.60606061]), array([ 0.        ,  0.        , 10.85858586]), array([ 0.        ,  0.        , 11.11111111]), array([ 0.        ,  0.        , 11.36363636]), array([ 0.        ,  0.        , 11.61616162]), array([ 0.        ,  0.        , 11.86868687]), array([ 0.        ,  0.        , 12.12121212]), array([ 0.        ,  0.        , 12.37373737]), array([ 0.        ,  0.        , 12.62626263]), array([ 0.        ,  0.        , 12.87878788]), array([ 0.        ,  0.        , 13.13131313]), array([ 0.        ,  0.        , 13.38383838]), array([ 0.        ,  0.        , 13.63636364]), array([ 0.        ,  0.        , 13.88888889]), array([ 0.        ,  0.        , 14.14141414]), array([ 0.        ,  0.        , 14.39393939]), array([ 0.        ,  0.        , 14.64646465]), array([ 0.       ,  0.       , 14.8989899]), array([ 0.        ,  0.        , 15.15151515]), array([ 0.       ,  0.       , 15.4040404]), array([ 0.        ,  0.        , 15.65656566]), array([ 0.        ,  0.        , 15.90909091]), array([ 0.        ,  0.        , 16.16161616]), array([ 0.        ,  0.        , 16.41414141]), array([ 0.        ,  0.        , 16.66666667]), array([ 0.        ,  0.        , 16.91919192]), array([ 0.        ,  0.        , 17.17171717]), array([ 0.        ,  0.        , 17.42424242]), array([ 0.        ,  0.        , 17.67676768]), array([ 0.        ,  0.        , 17.92929293]), array([ 0.        ,  0.        , 18.18181818]), array([ 0.        ,  0.        , 18.43434343]), array([ 0.        ,  0.        , 18.68686869]), array([ 0.        ,  0.        , 18.93939394]), array([ 0.        ,  0.        , 19.19191919]), array([ 0.        ,  0.        , 19.44444444]), array([ 0.       ,  0.       , 19.6969697]), array([ 0.        ,  0.        , 19.94949495]), array([ 0.       ,  0.       , 20.2020202]), array([ 0.        ,  0.        , 20.45454545]), array([ 0.        ,  0.        , 20.70707071]), array([ 0.        ,  0.        , 20.95959596]), array([ 0.        ,  0.        , 21.21212121]), array([ 0.        ,  0.        , 21.46464646]), array([ 0.        ,  0.        , 21.71717172]), array([ 0.        ,  0.        , 21.96969697]), array([ 0.        ,  0.        , 22.22222222]), array([ 0.        ,  0.        , 22.47474747]), array([ 0.        ,  0.        , 22.72727273]), array([ 0.        ,  0.        , 22.97979798]), array([ 0.        ,  0.        , 23.23232323]), array([ 0.        ,  0.        , 23.48484848]), array([ 0.        ,  0.        , 23.73737374]), array([ 0.        ,  0.        , 23.98989899]), array([ 0.        ,  0.        , 24.24242424]), array([ 0.        ,  0.        , 24.49494949]), array([ 0.        ,  0.        , 24.74747475]), array([ 0.,  0., 25.])]\n"
     ]
    }
   ],
   "source": [
    "#define universe\n",
    "box_const_size = 500\n",
    "box_size = np.array([box_const_size,box_const_size,box_const_size]) #max coordinate values for universe\n",
    "num_molecules = 2\n",
    "seed = 1313\n",
    "\n",
    "# create 2 mole universe\n",
    "mol1, mol2 = mc.Molecule(np.array([100.,100.,100.]), 100.), mc.Molecule(np.array([100.,100.,325.]), 100.)\n",
    "uni = mc.SimpleUniverse(box_size, num_molecules,[],seed,own_molecules=[mol1,mol2])\n",
    "\n",
    "# get metrics\n",
    "e_current, energy, accepts = test_step_acceptance(mol1,mol2, uni)"
   ]
  },
  {
   "cell_type": "code",
   "execution_count": 4,
   "metadata": {},
   "outputs": [],
   "source": [
    "def get_prob(ePrev,eNew,Beta):\n",
    "  proba = min(1, np.exp(-Beta*(eNew-ePrev)))\n",
    "  return proba"
   ]
  },
  {
   "cell_type": "code",
   "execution_count": 19,
   "metadata": {},
   "outputs": [
    {
     "name": "stdout",
     "output_type": "stream",
     "text": [
      "(100,)\n"
     ]
    },
    {
     "data": {
      "image/png": "[encoded data removed]",
      "text/plain": [
       "<Figure size 640x480 with 1 Axes>"
      ]
     },
     "metadata": {},
     "output_type": "display_data"
    }
   ],
   "source": [
    "x = np.linspace(0,3, 100)\n",
    "print(x.shape)\n",
    "plt.figure()\n",
    "#plt.plot(x, energy)\n",
    "plt.plot(x, (energy-e_current)[::-1], label = \"Energy difference\")\n",
    "plt.plot(x, [get_prob(e_current,e,1) for e in energy][::-1],label=\"Probabillity of Move\")\n",
    "plt.yscale(\"log\")\n",
    "plt.xlim([0.00001,3])\n",
    "plt.legend()\n",
    "plt.show()\n"
   ]
  },
  {
   "cell_type": "code",
   "execution_count": 6,
   "metadata": {},
   "outputs": [],
   "source": [
    "# m1 = np.array([100.,100.,100.])\n",
    "# m2 = np.array([100.,100.,325.])\n",
    "# dif = m2-m1\n",
    "# norm = np.sqrt(np.sum(dif**2))\n",
    "# print(norm)\n",
    "# print(dif)\n",
    "# print(np.linalg.norm(m2-m1))"
   ]
  },
  {
   "cell_type": "code",
   "execution_count": 7,
   "metadata": {},
   "outputs": [],
   "source": [
    "### THIS FUCNTION SHOULD NOT GIVE A WARNING\n",
    "import warnings\n",
    "\n",
    "def get_acc(ePrev,eNew,Beta):\n",
    "  x1 = eNew-ePrev\n",
    "  x2 = -Beta*x1\n",
    "  return x1, x2\n",
    "    "
   ]
  },
  {
   "cell_type": "code",
   "execution_count": 8,
   "metadata": {},
   "outputs": [
    {
     "data": {
      "text/plain": [
       "array([1, 3, 5])"
      ]
     },
     "execution_count": 8,
     "metadata": {},
     "output_type": "execute_result"
    }
   ],
   "source": [
    "a = np.array([(1,2),(3,4),(5,6)])\n",
    "\n",
    "b = a[:,0]\n",
    "b"
   ]
  },
  {
   "cell_type": "code",
   "execution_count": 9,
   "metadata": {},
   "outputs": [
    {
     "name": "stdout",
     "output_type": "stream",
     "text": [
      "[(-2.0, 4.670624224433288e+20), (-1.9292929292929293, 4.505501145791707e+20), (-1.8585858585858586, 4.3403780671501264e+20), (-1.7878787878787878, 4.175254988508545e+20), (-1.7171717171717171, 4.010131909866964e+20), (-1.6464646464646464, 3.8450088312253835e+20), (-1.5757575757575757, 3.679885752583803e+20), (-1.5050505050505052, 3.514762673942222e+20), (-1.4343434343434343, 3.3496395953006405e+20), (-1.3636363636363638, 3.1845165166590604e+20), (-1.2929292929292928, 3.019393438017479e+20), (-1.2222222222222223, 2.8542703593758985e+20), (-1.1515151515151516, 2.6891472807343174e+20), (-1.0808080808080809, 2.5240242020927367e+20), (-1.0101010101010102, 2.3589011234511556e+20), (-0.9393939393939394, 2.1937780448095748e+20), (-0.8686868686868687, 2.0286549661679937e+20), (-0.797979797979798, 1.863531887526413e+20), (-0.7272727272727273, 1.6984088088848322e+20), (-0.6565656565656566, 1.533285730243251e+20), (-0.5858585858585859, 1.3681626516016701e+20), (-0.5151515151515151, 1.2030395729600894e+20), (-0.4444444444444444, 1.0379164943185084e+20), (-0.3737373737373737, 8.727934156769275e+19), (-0.3030303030303032, 7.076703370353471e+19), (-0.2323232323232325, 5.425472583937661e+19), (-0.16161616161616177, 3.774241797521853e+19), (-0.09090909090909105, 2.1230110111060435e+19), (-0.020202020202020332, 4.717802246902342e+18), (0.05050505050505061, -1.17945056172558e+19), (0.1212121212121211, -2.830681348141384e+19), (0.19191919191919204, -4.481912134557199e+19), (0.26262626262626254, -6.133142920973002e+19), (0.33333333333333304, -7.784373707388807e+19), (0.404040404040404, -9.435604493804621e+19), (0.4747474747474745, -1.1086835280220425e+20), (0.5454545454545454, -1.273806606663624e+20), (0.6161616161616159, -1.4389296853052042e+20), (0.6868686868686869, -1.6040527639467858e+20), (0.7575757575757573, -1.7691758425883663e+20), (0.8282828282828283, -1.9342989212299477e+20), (0.8989898989898988, -2.0994219998715278e+20), (0.9696969696969697, -2.2645450785131092e+20), (1.0404040404040402, -2.4296681571546897e+20), (1.1111111111111112, -2.594791235796271e+20), (1.1818181818181817, -2.7599143144378515e+20), (1.2525252525252526, -2.925037393079433e+20), (1.323232323232323, -3.0901604717210134e+20), (1.3939393939393936, -3.2552835503625935e+20), (1.4646464646464645, -3.420406629004175e+20), (1.535353535353535, -3.585529707645756e+20), (1.606060606060606, -3.750652786287337e+20), (1.6767676767676765, -3.915775864928917e+20), (1.7474747474747474, -4.080898943570499e+20), (1.818181818181818, -4.2460220222120795e+20), (1.8888888888888888, -4.411145100853661e+20), (1.9595959595959593, -4.576268179495241e+20), (2.0303030303030303, -4.7413912581368224e+20), (2.101010101010101, -4.906514336778404e+20), (2.1717171717171713, -5.071637415419983e+20), (2.242424242424242, -5.236760494061565e+20), (2.313131313131313, -5.401883572703146e+20), (2.383838383838384, -5.5670066513447276e+20), (2.454545454545454, -5.732129729986307e+20), (2.525252525252525, -5.8972528086278885e+20), (2.595959595959596, -6.06237588726947e+20), (2.666666666666666, -6.227498965911049e+20), (2.737373737373737, -6.39262204455263e+20), (2.808080808080808, -6.557745123194212e+20), (2.878787878787879, -6.722868201835793e+20), (2.949494949494949, -6.887991280477372e+20), (3.02020202020202, -7.053114359118954e+20), (3.090909090909091, -7.218237437760535e+20), (3.1616161616161618, -7.383360516402117e+20), (3.232323232323232, -7.548483595043697e+20), (3.3030303030303028, -7.713606673685278e+20), (3.3737373737373737, -7.87872975232686e+20), (3.4444444444444446, -8.04385283096844e+20), (3.5151515151515147, -8.20897590961002e+20), (3.5858585858585856, -8.374098988251602e+20), (3.6565656565656566, -8.539222066893183e+20), (3.7272727272727266, -8.704345145534762e+20), (3.7979797979797976, -8.869468224176344e+20), (3.8686868686868685, -9.034591302817925e+20), (3.9393939393939394, -9.199714381459507e+20), (4.0101010101010095, -9.364837460101087e+20), (4.08080808080808, -9.529960538742667e+20), (4.151515151515151, -9.69508361738425e+20), (4.222222222222222, -9.86020669602583e+20), (4.292929292929292, -1.002532977466741e+21), (4.363636363636363, -1.0190452853308992e+21), (4.434343434343434, -1.0355575931950573e+21), (4.505050505050505, -1.0520699010592155e+21), (4.575757575757575, -1.0685822089233734e+21), (4.646464646464646, -1.0850945167875315e+21), (4.717171717171717, -1.1016068246516897e+21), (4.787878787878787, -1.1181191325158475e+21), (4.858585858585858, -1.1346314403800057e+21), (4.929292929292929, -1.1511437482441638e+21), (5.0, -1.167656056108322e+21)]\n"
     ]
    },
    {
     "data": {
      "image/png": "[encoded data removed]",
      "text/plain": [
       "<Figure size 640x480 with 1 Axes>"
      ]
     },
     "metadata": {},
     "output_type": "display_data"
    }
   ],
   "source": [
    "x = np.linspace(-2,5, 100)\n",
    "k_boltz = 1.380649E-23\n",
    "temp = k_boltz * mc.TEMPERATURE\n",
    "\n",
    "res = [get_acc(0,xi,(1/temp)) for xi in x]\n",
    "res_prob = [get_prob(0,xi,(1)) for xi in x]\n",
    "print(res)\n",
    "list1, list2 = zip(*res)\n",
    "plt.figure()\n",
    "\n",
    "plt.plot(x,res_prob)\n",
    "\n",
    "plt.show()"
   ]
  },
  {
   "cell_type": "code",
   "execution_count": 10,
   "metadata": {},
   "outputs": [
    {
     "name": "stdout",
     "output_type": "stream",
     "text": [
      "<module 'scipy.constants' from 'c:\\\\Users\\\\DGaard\\\\anaconda3\\\\envs\\\\ost3\\\\lib\\\\site-packages\\\\scipy\\\\constants\\\\__init__.py'>\n"
     ]
    }
   ],
   "source": [
    "import scipy.constants as consts\n",
    "\n",
    "\n",
    "print(consts)"
   ]
  },
  {
   "cell_type": "code",
   "execution_count": 11,
   "metadata": {},
   "outputs": [
    {
     "name": "stdout",
     "output_type": "stream",
     "text": [
      "[100. 100. 100.]\n",
      "[100. 100. 325.]\n"
     ]
    }
   ],
   "source": [
    "print(uni.molecules[0].pos)\n",
    "print(uni.molecules[1].pos)"
   ]
  },
  {
   "cell_type": "code",
   "execution_count": 12,
   "metadata": {},
   "outputs": [
    {
     "name": "stdout",
     "output_type": "stream",
     "text": [
      "[(0.0, -0.0), (-0.0021209501343738557, 0.0021209501343738557), (-0.004295524546762658, 0.004295524546762658), (-0.0065255582465995055, 0.0065255582465995055), (-0.008812967237165292, 0.008812967237165292), (-0.01115975294576571, 0.01115975294576571), (-0.013568006945001931, 0.013568006945001931), (-0.01603991598756932, 0.01603991598756932), (-0.018577767379005655, 0.018577767379005655), (-0.021183954715013498, 0.021183954715013498), (-0.02386098401238837, 0.02386098401238837), (-0.026611480265243403, 0.026611480265243403), (-0.029438194461183176, 0.029438194461183176), (-0.03234401109530083, 0.03234401109530083), (-0.03533195622349716, 0.03533195622349716), (-0.038405206100596084, 0.038405206100596084), (-0.04156709645314485, 0.04156709645314485), (-0.044821132441713984, 0.044821132441713984), (-0.048170999372957934, 0.048170999372957934), (-0.051620574227776495, 0.051620574227776495), (-0.055173938078706436, 0.055173938078706436), (-0.05883538947720274, 0.05883538947720274), (-0.06260945889995587, 0.06260945889995587), (-0.06650092435282473, 0.06650092435282473), (-0.07051482824156613, 0.07051482824156613), (-0.07465649563045174, 0.07465649563045174), (-0.07893155402322696, 0.07893155402322696), (-0.08334595481590382, 0.08334595481590382), (-0.08790599658789916, 0.08790599658789916), (-0.09261835041713065, 0.09261835041713065), (-0.09749008742643528, 0.09749008742643528), (-0.1025287087931872, 0.1025287087931872), (-0.10774217848191284, 0.10774217848191284), (-0.1131389589913992, 0.1131389589913992), (-0.11872805044392182, 0.11872805044392182), (-0.12451903338543674, 0.12451903338543674), (-0.13052211571277328, 0.13052211571277328), (-0.13674818419784213, 0.13674818419784213), (-0.14320886114097686, 0.14320886114097686), (-0.1499165667569045, 0.1499165667569045), (-0.15688458797917648, 0.15688458797917648), (-0.16412715446411402, 0.16412715446411402), (-0.17165952268559126, 0.17165952268559126), (-0.17949806914007782, 0.17949806914007782), (-0.1876599445326247, 0.1876599445326247), (-0.19614950418275978, 0.19614950418275978), (-0.20495518201148594, 0.20495518201148594), (-0.21406451915878993, 0.21406451915878993), (-0.22346511100523914, 0.22346511100523914), (-0.2331446443044049, 0.2331446443044049), (-0.24309094142901666, 0.24309094142901666), (-0.2532920130441037, 0.2532920130441037), (-0.2637361207804495, 0.2637361207804495), (-0.27441185179814104, 0.27441185179814104), (-0.28530820751696945, 0.28530820751696945), (-0.2964147092646124, 0.2964147092646124), (-0.3077215241773322, 0.3077215241773322), (-0.319219615409158, 0.319219615409158), (-0.3309009216001942, 0.3309009216001942), (-0.3427585716695094, 0.3427585716695094), (-0.35478714239324927, 0.35478714239324927), (-0.3669829679829177, 0.3669829679829177), (-0.3793445130960026, 0.3793445130960026), (-0.3918728235277489, 0.3918728235277489), (-0.4045720724310181, 0.4045720724310181), (-0.41745022453470815, 0.41745022453470815), (-0.4305198468087895, 0.4305198468087895), (-0.443799101803135, 0.443799101803135), (-0.4573129700811943, 0.4573129700811943), (-0.4710947616258443, 0.4710947616258443), (-0.4851879939972942, 0.4851879939972942), (-0.499648739038822, 0.499648739038822), (-0.5145485724302538, 0.5145485724302538), (-0.5299783047993858, 0.5299783047993858), (-0.5460527343980004, 0.5460527343980004), (-0.5629167468769877, 0.5629167468769877), (-0.5807532084394834, 0.5807532084394834), (-0.5997932712776791, 0.5997932712776791), (-0.6203299603971303, 0.6203299603971303), (-0.6427362789766234, 0.6427362789766234), (-0.6674896196239825, 0.6674896196239825), (-0.6952051060890885, 0.6952051060890885), (-0.726681788814105, 0.726681788814105), (-0.7629676762171088, 0.7629676762171088), (-0.8054529244532344, 0.8054529244532344), (-0.8560060756578709, 0.8560060756578709), (-0.9171777915450686, 0.9171777915450686), (-0.9925134947114566, 0.9925134947114566), (-1.0870476227081767, 1.0870476227081767), (-1.2081125219400248, 1.2081125219400248), (-1.366717424503566, 1.366717424503566), (-1.580016950291213, 1.580016950291213), (-1.8760011073925154, 1.8760011073925154), (-2.3030936712260517, 2.3030936712260517), (-2.9517685000833302, 2.9517685000833302), (-4.009903742435292, 4.009903742435292), (99999999999.11937, -99999999999.11937), (99999999999.11937, -99999999999.11937), (99999999999.11937, -99999999999.11937), (99999999999.11937, -99999999999.11937)]\n"
     ]
    }
   ],
   "source": [
    "#Plot relationship between interdistance and energy\n",
    "inter = mc.inter_dist(mol1,mol2)\n",
    "#print(inter)\n",
    "dists = np.linspace(0.1,inter, samples)\n",
    "#print(dists)\n",
    "acc_rate = [get_acc(e_current,e, mc.BETA) for e in energy]\n",
    "print(acc_rate)\n",
    "# plt.figure()\n",
    "# #plt.plot(dists,acc_rate, label = \"acceptance probability for given distance\")\n",
    "# plt.plot(dists, energy, label = \"Energy for given distance\")\n",
    "# plt.xlim([0,25])\n",
    "# plt.legend()\n",
    "# plt.show()"
   ]
  },
  {
   "cell_type": "code",
   "execution_count": 13,
   "metadata": {},
   "outputs": [],
   "source": [
    "forces = fc.total_force_molecule(mol1,mol2)\n",
    "# ep = mc.get_energy(mol1, uni)\n",
    "# print(forces)\n",
    "# print(ep)\n",
    "# mol1.move(np.array([0,0,23]))\n",
    "\n",
    "# forces = fc.total_force_molecule(mol1,mol2)\n",
    "# ep = mc.get_energy(mol1, uni)\n",
    "# print(forces)\n",
    "# print(ep)"
   ]
  },
  {
   "cell_type": "code",
   "execution_count": 14,
   "metadata": {},
   "outputs": [
    {
     "name": "stdout",
     "output_type": "stream",
     "text": [
      "[100. 100. 100.]\n",
      "[100. 100. 325.]\n",
      "[100. 100. 100.]\n",
      "[100. 100. 325.]\n"
     ]
    }
   ],
   "source": [
    "print(uni.molecules[0].pos)\n",
    "print(uni.molecules[1].pos)\n",
    "print(mol1.pos)\n",
    "print(mol2.pos)"
   ]
  },
  {
   "cell_type": "code",
   "execution_count": 15,
   "metadata": {},
   "outputs": [],
   "source": [
    "def pls_work(mol_fixed, mol_moved, universe): #compute the energy of all molecules with respect to\n",
    "  idx = universe.molecules.index(mol_fixed)\n",
    "  nbs = [m for m in universe.molecules]\n",
    "  del nbs[idx]\n",
    "  energy = sum([fc.total_force_molecule(mol_moved,m2) for m2 in nbs])\n",
    "  return energy"
   ]
  },
  {
   "cell_type": "code",
   "execution_count": 16,
   "metadata": {},
   "outputs": [
    {
     "name": "stdout",
     "output_type": "stream",
     "text": [
      "-1.7195400275048702\n"
     ]
    }
   ],
   "source": [
    "m1_copy = copy.deepcopy(mol1)\n",
    "\n",
    "# x = pls_work(mol1,m1_copy, uni)\n",
    "# print(x)\n",
    "\n",
    "m1_copy.move(np.array([0.,0.,23.]))\n",
    "x = pls_work(mol1,m1_copy, uni)\n",
    "print(x)"
   ]
  }
 ],
 "metadata": {
  "kernelspec": {
   "display_name": "ost3",
   "language": "python",
   "name": "python3"
  },
  "language_info": {
   "codemirror_mode": {
    "name": "ipython",
    "version": 3
   },
   "file_extension": ".py",
   "mimetype": "text/x-python",
   "name": "python",
   "nbconvert_exporter": "python",
   "pygments_lexer": "ipython3",
   "version": "3.10.13"
  }
 },
 "nbformat": 4,
 "nbformat_minor": 2
}
