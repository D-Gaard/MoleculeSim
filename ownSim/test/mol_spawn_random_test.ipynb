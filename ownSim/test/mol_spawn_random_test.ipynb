{
 "cells": [
  {
   "cell_type": "code",
   "execution_count": 2,
   "metadata": {},
   "outputs": [],
   "source": [
    "#IMPORTS \n",
    "import sys\n",
    "import numpy as np\n",
    "import matplotlib.pyplot as plt\n",
    "sys.path.append(r\"C:\\Users\\DGaard\\Desktop\\Gits\\MoleculeSim\\ownSim\")\n",
    "\n",
    "import molecules as mc\n",
    "import forces as fc\n",
    "import random\n",
    "import copy"
   ]
  },
  {
   "cell_type": "markdown",
   "metadata": {},
   "source": [
    "# Spawn random molecules montecarlo style"
   ]
  },
  {
   "cell_type": "code",
   "execution_count": 7,
   "metadata": {},
   "outputs": [
    {
     "name": "stdout",
     "output_type": "stream",
     "text": [
      "[<molecules.Molecule object at 0x0000018BE0191DE0>, <molecules.Molecule object at 0x0000018BE0193C40>, <molecules.Molecule object at 0x0000018BE0192BF0>, <molecules.Molecule object at 0x0000018BE0193100>, <molecules.Molecule object at 0x0000018BE01923E0>, <molecules.Molecule object at 0x0000018BE0193A90>, <molecules.Molecule object at 0x0000018BE01923B0>, <molecules.Molecule object at 0x0000018BE0193970>, <molecules.Molecule object at 0x0000018BE0193010>, <molecules.Molecule object at 0x0000018BE0193940>]\n"
     ]
    }
   ],
   "source": [
    "\n",
    "def generate_spheres(num_spheres, box_dimensions, radii, max_attempts):\n",
    "\n",
    "  def check_overlap(new_sphere, existing_spheres):\n",
    "    for sphere in existing_spheres:\n",
    "        distance = np.linalg.norm(new_sphere[:3] - sphere[:3])\n",
    "        if distance < new_sphere[3] + sphere[3]:\n",
    "            return True\n",
    "    return False\n",
    "\n",
    "  spheres = []\n",
    "  box_min = np.array([0, 0, 0])\n",
    "  box_max = np.array(box_dimensions)\n",
    "  attempts = 0\n",
    "\n",
    "  for i in range(num_spheres):\n",
    "    radius = radii[i]\n",
    "    position = np.random.uniform(box_min + radius, box_max - radius)\n",
    "    new_sphere = np.append(position, radius)\n",
    "\n",
    "    attempts = 0\n",
    "    while check_overlap(new_sphere, spheres):\n",
    "        position = np.random.uniform(box_min + radius, box_max - radius)\n",
    "        new_sphere = np.append(position, radius)\n",
    "        attempts += 1\n",
    "\n",
    "        if attempts > max_attempts:\n",
    "          print(\"Unable to spawn points withing the box\")\n",
    "          return None\n",
    "\n",
    "    spheres.append(new_sphere)\n",
    "\n",
    "  return [mc.Molecule(np.array([x,y,z]),r) for (x,y,z,r) in spheres]\n",
    "\n",
    "# Example usage:\n",
    "num_spheres = 10\n",
    "box_size = 1000\n",
    "box_dimensions = [box_size, box_size, box_size]  # Define the box dimensions [x, y, z]\n",
    "radius = 20\n",
    "radii = [radius for _ in range(num_spheres)]\n",
    "max_attempts = 100\n",
    "\n",
    "resulting_spheres = generate_spheres(num_spheres, box_dimensions, radii,max_attempts)\n",
    "\n",
    "print(resulting_spheres)\n",
    "#if resulting_spheres != None:\n",
    "#  for idx, sphere in enumerate(resulting_spheres):\n",
    "#      print(f\"Sphere {idx + 1}: Position {sphere[:3]}, Radius {sphere[3]}\")\n",
    "  \n"
   ]
  },
  {
   "cell_type": "code",
   "execution_count": 9,
   "metadata": {},
   "outputs": [
    {
     "name": "stdout",
     "output_type": "stream",
     "text": [
      "[924.39201026 745.85141975 444.55753538] 20.0\n",
      "[164.19374649 769.02281619 544.18423296] 20.0\n",
      "[243.30644256 594.91274833 170.40590349] 20.0\n",
      "[436.10563275 563.25795629 610.93386629] 20.0\n",
      "[497.61125614 156.523323   763.48880597] 20.0\n",
      "[857.86282028 505.23327657 359.77656189] 20.0\n",
      "[133.43569231 774.13153169 598.07731664] 20.0\n",
      "[863.23074743 308.65007892 411.63320312] 20.0\n",
      "[150.1590964   21.68975232 155.15407504] 20.0\n",
      "[261.86420437 329.70080586 505.41712992] 20.0\n"
     ]
    }
   ],
   "source": [
    "#mols = [mc.Molecule(np.array([x,y,z]),r) for (x,y,z,r) in resulting_spheres]\n",
    "\n",
    "for i in resulting_spheres:\n",
    "  print(i.pos, i.radius)"
   ]
  }
 ],
 "metadata": {
  "kernelspec": {
   "display_name": "ost3",
   "language": "python",
   "name": "python3"
  },
  "language_info": {
   "codemirror_mode": {
    "name": "ipython",
    "version": 3
   },
   "file_extension": ".py",
   "mimetype": "text/x-python",
   "name": "python",
   "nbconvert_exporter": "python",
   "pygments_lexer": "ipython3",
   "version": "3.10.13"
  }
 },
 "nbformat": 4,
 "nbformat_minor": 2
}
