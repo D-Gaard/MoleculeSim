{
 "cells": [
  {
   "cell_type": "code",
   "execution_count": 1,
   "metadata": {},
   "outputs": [],
   "source": [
    "#IMPORTS \n",
    "import sys\n",
    "import numpy as np\n",
    "import matplotlib.pyplot as plt\n",
    "sys.path.append(r\"C:\\Users\\EmilR\\Documents\\GitHub\\MoleculeSim\\ownSim\")\n",
    "#sys.path.append(r\"C:\\Users\\EmilR\\Documents\\GitHub\\MoleculeSim\\ownSim\")\n",
    "\n",
    "import molecules as mc\n",
    "import forces as fc\n",
    "import random\n",
    "import copy"
   ]
  },
  {
   "cell_type": "code",
   "execution_count": 2,
   "metadata": {},
   "outputs": [],
   "source": [
    "def lin_repulsion(x, b=10):\n",
    "  #if ( x < 0):\n",
    "  #  return b\n",
    "  return max(-(1/3)*x + b,0)\n",
    "\n",
    "def lin_attraction(x, b =-10):\n",
    "  #if ( x < 0):\n",
    "  #  return b\n",
    "  return min((1/3)*x + b,0)\n",
    "\n",
    "def lin_attraction_mol(m1,m2, b =-10):\n",
    "  #if ( x < 0):\n",
    "  #  return b\n",
    "  return min((1/3)*(mc.dist(m1,m2)) + b,0)"
   ]
  },
  {
   "cell_type": "code",
   "execution_count": 3,
   "metadata": {},
   "outputs": [],
   "source": [
    "import itertools\n",
    "def grid_points(box_size,radius, spacing):\n",
    "  x = np.arange(radius + spacing, box_size[0]- radius- spacing, step = 2*radius + spacing, dtype=float)\n",
    "  y = np.arange(radius+ spacing, box_size[1]- radius- spacing, step = 2*radius + spacing, dtype=float)\n",
    "  z = np.arange(radius+ spacing, box_size[2]- radius- spacing, step = 2*radius + spacing, dtype=float)\n",
    "  all_combinations = list(itertools.product(x,y,z))\n",
    "  print(x,y,z)\n",
    "  return [np.array(comb) for comb in all_combinations]"
   ]
  },
  {
   "cell_type": "code",
   "execution_count": 4,
   "metadata": {},
   "outputs": [
    {
     "data": {
      "image/png": "[encoded data removed]",
      "text/plain": [
       "<Figure size 640x480 with 1 Axes>"
      ]
     },
     "metadata": {},
     "output_type": "display_data"
    }
   ],
   "source": [
    "x = np.arange(-20,100)\n",
    "f_rep = [lin_repulsion(xi) for xi in x]\n",
    "f_att = [lin_attraction(xi) for xi in x]\n",
    "plt.figure()\n",
    "plt.plot(x,f_rep,label=\"Linear repulsion\")\n",
    "plt.plot(x,f_att,label=\"linear attraction\")\n",
    "plt.legend()\n",
    "plt.show()\n"
   ]
  },
  {
   "cell_type": "code",
   "execution_count": 5,
   "metadata": {},
   "outputs": [
    {
     "name": "stdout",
     "output_type": "stream",
     "text": [
      "<class 'numpy.float64'>\n"
     ]
    }
   ],
   "source": [
    "# Parameters for universe initialization\n",
    "box_const_size = 850\n",
    "box_size = np.array([box_const_size,box_const_size,box_const_size]) #max coordinate values for universe\n",
    "#num_molecules = 5\n",
    "num_steps = 100000\n",
    "radius  = 100\n",
    "num_molecules = 30\n",
    "#other setup\n",
    "seed = 1234#1313\n",
    "spacing = 10\n",
    "#combs = grid_points(box_size, radius, spacing)\n",
    "#molecules = [mc.Molecule(pos, radius) for pos in combs]\n",
    "\n",
    "#uni = mc.SimpleUniverse(box_size, len(molecules),np.repeat(radius,len(molecules)),seed, own_molecules = molecules, force_fun = cust_force)\n",
    "uni = mc.SimpleUniverse(box_size, num_molecules,np.repeat(radius,num_molecules),seed, force_fun = lin_attraction_mol)\n",
    "print(type(uni.molecules[0].pos[0]))"
   ]
  },
  {
   "cell_type": "code",
   "execution_count": 6,
   "metadata": {},
   "outputs": [
    {
     "name": "stdout",
     "output_type": "stream",
     "text": [
      "Accepted: 92788, Rejected: 7212, Rate: 0.92788\n"
     ]
    }
   ],
   "source": [
    "#step loop\n",
    "points = []\n",
    "\n",
    "# Perform Simulation\n",
    "for i in range(num_steps):\n",
    "  #randomly select a molecule\n",
    "  uni.make_step_thresh()\n",
    "  #store intermediate results?\n",
    "  points.append(uni.get_state())\n",
    "\n",
    "acc, rej, accs, num = uni.get_stats()\n",
    "print(f\"Accepted: {acc}, Rejected: {rej}, Rate: {acc/num}\")"
   ]
  },
  {
   "cell_type": "code",
   "execution_count": 7,
   "metadata": {},
   "outputs": [],
   "source": [
    "# get only some steps\n",
    "xs = np.array([inner_list[0] for sublist in points for inner_list in sublist]).reshape((num_steps,num_molecules))\n",
    "ys = np.array([inner_list[1] for sublist in points for inner_list in sublist]).reshape((num_steps,num_molecules))\n",
    "zs = np.array([inner_list[2] for sublist in points for inner_list in sublist]).reshape((num_steps,num_molecules))\n"
   ]
  },
  {
   "cell_type": "code",
   "execution_count": 8,
   "metadata": {},
   "outputs": [],
   "source": [
    "xs = [xs[i] for i in range(len(xs)) if i % 100 == 0]\n",
    "ys = [ys[i] for i in range(len(ys)) if i % 100 == 0]\n",
    "zs = [zs[i] for i in range(len(zs)) if i % 100 == 0]"
   ]
  },
  {
   "cell_type": "code",
   "execution_count": 9,
   "metadata": {},
   "outputs": [],
   "source": [
    "#animate:\n",
    "from __future__ import absolute_import, division, print_function\n",
    "from mayavi import mlab\n",
    "import numpy as np\n",
    "import math\n",
    "num_molecules = len(uni.molecules)\n",
    "\n",
    "\n",
    "mlab.clf()\n",
    "#mlab.points3d(0,0,0)\n",
    "plt = mlab.points3d(points[0][:, 0], points[0][:, 1], points[0][:, 2], resolution = 50, scale_factor = 200.)\n",
    "mlab.axes()\n",
    "text_position = (0,0,0)\n",
    "text_actor = mlab.text3d(500,150, 510, \"TESTING\", scale = 40, color = (0,0,0))\n",
    "@mlab.animate(delay = 100, ui = True, support_movie = True) #delay = 100\n",
    "def anim():\n",
    "    f = mlab.gcf()\n",
    "    while True:\n",
    "        #temp = \"step: \"\n",
    "        for step in range(len(xs)):#num_steps\n",
    "            x = xs[step]#points[step][:, 0]\n",
    "            y = ys[step]#points[step][:, 1]\n",
    "            z = zs[step]#points[step][:, 2]\n",
    "            plt.mlab_source.set(x=x, y=y, z=z)\n",
    "            text_actor.text = f\"Frame: {step}\"\n",
    "            \n",
    "            yield\n",
    "\n",
    "\n",
    "anim()\n",
    "mlab.show()"
   ]
  }
 ],
 "metadata": {
  "kernelspec": {
   "display_name": "OSTV2",
   "language": "python",
   "name": "python3"
  },
  "language_info": {
   "codemirror_mode": {
    "name": "ipython",
    "version": 3
   },
   "file_extension": ".py",
   "mimetype": "text/x-python",
   "name": "python",
   "nbconvert_exporter": "python",
   "pygments_lexer": "ipython3",
   "version": "3.10.13"
  }
 },
 "nbformat": 4,
 "nbformat_minor": 2
}
