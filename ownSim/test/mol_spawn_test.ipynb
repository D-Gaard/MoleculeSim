{
 "cells": [
  {
   "cell_type": "code",
   "execution_count": 1,
   "metadata": {},
   "outputs": [],
   "source": [
    "#IMPORTS \n",
    "import sys\n",
    "import numpy as np\n",
    "import matplotlib.pyplot as plt\n",
    "sys.path.append(r\"C:\\Users\\DGaard\\Desktop\\Gits\\MoleculeSim\\ownSim\")\n",
    "\n",
    "import molecules as mc\n",
    "import forces as fc\n",
    "import random\n",
    "import copy"
   ]
  },
  {
   "cell_type": "markdown",
   "metadata": {},
   "source": [
    "# Spawn grid molecules"
   ]
  },
  {
   "cell_type": "code",
   "execution_count": 2,
   "metadata": {},
   "outputs": [],
   "source": [
    "import itertools\n",
    "def grid_points(box_size,radius, spacing):\n",
    "  x = np.arange(radius + spacing, box_size[0]- radius- spacing, step = 2*radius + spacing)\n",
    "  y = np.arange(radius+ spacing, box_size[1]- radius- spacing, step = 2*radius + spacing)\n",
    "  z = np.arange(radius+ spacing, box_size[2]- radius- spacing, step = 2*radius + spacing)\n",
    "  all_combinations = list(itertools.product(x,y,z))\n",
    "  print(x,y,z)\n",
    "  return [np.array(comb) for comb in all_combinations]"
   ]
  },
  {
   "cell_type": "code",
   "execution_count": 3,
   "metadata": {},
   "outputs": [
    {
     "name": "stdout",
     "output_type": "stream",
     "text": [
      "[150. 400. 650.] [150. 400. 650.] [150. 400.]\n",
      "[[150. 150. 150.]\n",
      " [150. 150. 400.]\n",
      " [150. 400. 150.]\n",
      " [150. 400. 400.]\n",
      " [150. 650. 150.]\n",
      " [150. 650. 400.]\n",
      " [400. 150. 150.]\n",
      " [400. 150. 400.]\n",
      " [400. 400. 150.]\n",
      " [400. 400. 400.]\n",
      " [400. 650. 150.]\n",
      " [400. 650. 400.]\n",
      " [650. 150. 150.]\n",
      " [650. 150. 400.]\n",
      " [650. 400. 150.]\n",
      " [650. 400. 400.]\n",
      " [650. 650. 150.]\n",
      " [650. 650. 400.]]\n"
     ]
    }
   ],
   "source": [
    "\n",
    "box_size = np.array([1000.,1000.,800.])\n",
    "radius = 100.\n",
    "spacing = 50\n",
    "seed = 42\n",
    "combs = grid_points(box_size, radius, spacing)\n",
    "molecules = [mc.Molecule(pos, radius) for pos in combs]\n",
    "uni = mc.SimpleUniverse(box_size, len(molecules), np.repeat(radius,len(molecules)), seed, own_molecules= molecules)\n",
    "state = uni.get_state()\n",
    "print(state)"
   ]
  },
  {
   "cell_type": "code",
   "execution_count": null,
   "metadata": {},
   "outputs": [],
   "source": []
  },
  {
   "cell_type": "code",
   "execution_count": 4,
   "metadata": {},
   "outputs": [
    {
     "name": "stdout",
     "output_type": "stream",
     "text": [
      "********************************************************************************\n",
      "WARNING: Imported VTK version (9.3) does not match the one used\n",
      "         to build the TVTK classes (9.2). This may cause problems.\n",
      "         Please rebuild TVTK.\n",
      "********************************************************************************\n",
      "\n"
     ]
    }
   ],
   "source": [
    "# MAYAVI IMPORTS\n",
    "import traits\n",
    "from mayavi import mlab\n",
    "import numpy as np\n",
    "from __future__ import absolute_import, division, print_function\n",
    "from mayavi import mlab\n",
    "import numpy as np\n",
    "import math"
   ]
  },
  {
   "cell_type": "code",
   "execution_count": 5,
   "metadata": {},
   "outputs": [],
   "source": [
    "#params\n",
    "num_steps = 20000"
   ]
  },
  {
   "cell_type": "code",
   "execution_count": 6,
   "metadata": {},
   "outputs": [
    {
     "name": "stderr",
     "output_type": "stream",
     "text": [
      "C:\\Users\\DGaard\\Desktop\\Gits\\MoleculeSim\\ownSim\\forces.py:48: RuntimeWarning: invalid value encountered in log\n",
      "  thrd_term = np.log((r2 - square_p)/(r2 - square_n))\n",
      "C:\\Users\\DGaard\\Desktop\\Gits\\MoleculeSim\\ownSim\\forces.py:80: RuntimeWarning: invalid value encountered in scalar power\n",
      "  snd = 28 * (y**(-1/4) - 1)\n",
      "C:\\Users\\DGaard\\Desktop\\Gits\\MoleculeSim\\ownSim\\forces.py:81: RuntimeWarning: invalid value encountered in scalar power\n",
      "  trd = (20/11) * (1 - y**(11/4))\n"
     ]
    }
   ],
   "source": [
    "points = []\n",
    "\n",
    "# Perform Simulation\n",
    "for i in range(num_steps):\n",
    "  #randomly select a molecule\n",
    "  mol = uni.select_molecule()\n",
    "  #keep proposing new steps until one is accepted\n",
    "  mc.step(uni,mol)\n",
    "  #store intermediate results?\n",
    "  points.append(uni.get_state())\n",
    "\n",
    "\n",
    "#points shape = 20x20x3\n"
   ]
  },
  {
   "cell_type": "code",
   "execution_count": 9,
   "metadata": {},
   "outputs": [],
   "source": [
    "plt = mlab.points3d(points[0][:, 0], points[0][:, 1], points[0][:, 2])\n",
    "\n",
    "@mlab.animate(delay=100, ui = True)\n",
    "def anim():\n",
    "    f = mlab.gcf()\n",
    "    while True:\n",
    "        #temp = \"step: \"\n",
    "        for step in range(num_steps):\n",
    "            temp = \"step: \" + str(step)\n",
    "            #print(temp, end = \"\\r\")\n",
    "            x = points[step][:, 0]\n",
    "            y = points[step][:, 1]\n",
    "            z = points[step][:, 2]\n",
    "        #for (x, y, z) in zip(xs, ys, zs):\n",
    "            plt.mlab_source.set(x=x, y=y, z=z)\n",
    "            mlab.text3d(box_size[0],box_size[1],box_size[2], text = temp)\n",
    "            yield\n",
    "\n",
    "\n",
    "anim()\n",
    "mlab.show()"
   ]
  },
  {
   "cell_type": "markdown",
   "metadata": {},
   "source": [
    "# Spawn random molecules montecarlo style"
   ]
  },
  {
   "cell_type": "code",
   "execution_count": 8,
   "metadata": {},
   "outputs": [
    {
     "ename": "TypeError",
     "evalue": "generate_spheres() takes 3 positional arguments but 4 were given",
     "output_type": "error",
     "traceback": [
      "\u001b[1;31m---------------------------------------------------------------------------\u001b[0m",
      "\u001b[1;31mTypeError\u001b[0m                                 Traceback (most recent call last)",
      "Cell \u001b[1;32mIn[8], line 34\u001b[0m\n\u001b[0;32m     31\u001b[0m min_radius \u001b[38;5;241m=\u001b[39m \u001b[38;5;241m0.5\u001b[39m\n\u001b[0;32m     32\u001b[0m max_radius \u001b[38;5;241m=\u001b[39m \u001b[38;5;241m2.0\u001b[39m\n\u001b[1;32m---> 34\u001b[0m resulting_spheres \u001b[38;5;241m=\u001b[39m \u001b[43mgenerate_spheres\u001b[49m\u001b[43m(\u001b[49m\u001b[43mnum_spheres\u001b[49m\u001b[43m,\u001b[49m\u001b[43m \u001b[49m\u001b[43mbox_dimensions\u001b[49m\u001b[43m,\u001b[49m\u001b[43m \u001b[49m\u001b[43mmin_radius\u001b[49m\u001b[43m,\u001b[49m\u001b[43m \u001b[49m\u001b[43mmax_radius\u001b[49m\u001b[43m)\u001b[49m\n\u001b[0;32m     35\u001b[0m \u001b[38;5;28;01mfor\u001b[39;00m idx, sphere \u001b[38;5;129;01min\u001b[39;00m \u001b[38;5;28menumerate\u001b[39m(resulting_spheres):\n\u001b[0;32m     36\u001b[0m     \u001b[38;5;28mprint\u001b[39m(\u001b[38;5;124mf\u001b[39m\u001b[38;5;124m\"\u001b[39m\u001b[38;5;124mSphere \u001b[39m\u001b[38;5;132;01m{\u001b[39;00midx\u001b[38;5;250m \u001b[39m\u001b[38;5;241m+\u001b[39m\u001b[38;5;250m \u001b[39m\u001b[38;5;241m1\u001b[39m\u001b[38;5;132;01m}\u001b[39;00m\u001b[38;5;124m: Position \u001b[39m\u001b[38;5;132;01m{\u001b[39;00msphere[:\u001b[38;5;241m3\u001b[39m]\u001b[38;5;132;01m}\u001b[39;00m\u001b[38;5;124m, Radius \u001b[39m\u001b[38;5;132;01m{\u001b[39;00msphere[\u001b[38;5;241m3\u001b[39m]\u001b[38;5;132;01m}\u001b[39;00m\u001b[38;5;124m\"\u001b[39m)\n",
      "\u001b[1;31mTypeError\u001b[0m: generate_spheres() takes 3 positional arguments but 4 were given"
     ]
    }
   ],
   "source": [
    "import numpy as np\n",
    "\n",
    "def generate_spheres(num_spheres, box_dimensions, radii):\n",
    "    spheres = []\n",
    "    box_min = np.array([0, 0, 0])\n",
    "    box_max = np.array(box_dimensions)\n",
    "\n",
    "    def check_overlap(new_sphere, existing_spheres):\n",
    "        for sphere in existing_spheres:\n",
    "            distance = np.linalg.norm(new_sphere[:3] - sphere[:3])\n",
    "            if distance < new_sphere[3] + sphere[3]:\n",
    "                return True\n",
    "        return False\n",
    "\n",
    "    for i in range(num_spheres):\n",
    "        radius = radii[i]\n",
    "        position = np.random.uniform(box_min + radius, box_max - radius)\n",
    "        new_sphere = np.append(position, radius)\n",
    "\n",
    "        while check_overlap(new_sphere, spheres):\n",
    "            position = np.random.uniform(box_min + radius, box_max - radius)\n",
    "            new_sphere = np.append(position, radius)\n",
    "\n",
    "        spheres.append(new_sphere)\n",
    "\n",
    "    return spheres\n",
    "\n",
    "# Example usage:\n",
    "num_spheres = 10\n",
    "box_dimensions = [10, 10, 10]  # Define the box dimensions [x, y, z]\n",
    "min_radius = 0.5\n",
    "max_radius = 2.0\n",
    "\n",
    "resulting_spheres = generate_spheres(num_spheres, box_dimensions, min_radius, max_radius)\n",
    "for idx, sphere in enumerate(resulting_spheres):\n",
    "    print(f\"Sphere {idx + 1}: Position {sphere[:3]}, Radius {sphere[3]}\")\n"
   ]
  }
 ],
 "metadata": {
  "kernelspec": {
   "display_name": "ost3",
   "language": "python",
   "name": "python3"
  },
  "language_info": {
   "codemirror_mode": {
    "name": "ipython",
    "version": 3
   },
   "file_extension": ".py",
   "mimetype": "text/x-python",
   "name": "python",
   "nbconvert_exporter": "python",
   "pygments_lexer": "ipython3",
   "version": "3.10.13"
  }
 },
 "nbformat": 4,
 "nbformat_minor": 2
}
