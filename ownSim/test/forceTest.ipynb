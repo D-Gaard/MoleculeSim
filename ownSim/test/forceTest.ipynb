{
 "cells": [
  {
   "cell_type": "code",
   "execution_count": null,
   "metadata": {},
   "outputs": [],
   "source": [
    "pH = 6.7\n",
    "m1 = mc.Molecule(np.array([0.0,0.0,0.0]),50)\n",
    "m2 = mc.Molecule(np.array([200.0,0.0,0.0]),50)\n",
    "\n",
    "\n",
    "#mc.dist(m1,m2)\n",
    "\n",
    "\n",
    "print(fc.vdw(m1,m2))\n",
    "#print(fc.steric(m1,m2))\n",
    "#print(fc.elec_rep(m1,m2))"
   ]
  }
 ],
 "metadata": {
  "kernelspec": {
   "display_name": "molecyle",
   "language": "python",
   "name": "python3"
  },
  "language_info": {
   "codemirror_mode": {
    "name": "ipython",
    "version": 3
   },
   "file_extension": ".py",
   "mimetype": "text/x-python",
   "name": "python",
   "nbconvert_exporter": "python",
   "pygments_lexer": "ipython3",
   "version": "3.6.13"
  }
 },
 "nbformat": 4,
 "nbformat_minor": 2
}
