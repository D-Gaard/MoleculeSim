{
 "cells": [
  {
   "cell_type": "code",
   "execution_count": 24,
   "metadata": {},
   "outputs": [
    {
     "name": "stdout",
     "output_type": "stream",
     "text": [
      "1\n"
     ]
    },
    {
     "data": {
      "text/plain": [
       "True"
      ]
     },
     "execution_count": 24,
     "metadata": {},
     "output_type": "execute_result"
    }
   ],
   "source": [
    "import numpy as np\n",
    "import random\n",
    "\n",
    "Beta = 0.1\n",
    "ePrev = 1\n",
    "eNew = 1\n",
    "print(min(1, np.exp(-Beta*(ePrev-eNew))))\n",
    "\n",
    "\n",
    "def accept_move(ePrev,eNew,beta):\n",
    "  proba = min(1, np.exp(-Beta*(ePrev-eNew)))\n",
    "  return random.random() < proba\n",
    "\n",
    "\n",
    "\n",
    "accept_move(ePrev,eNew,Beta)"
   ]
  },
  {
   "cell_type": "code",
   "execution_count": 26,
   "metadata": {},
   "outputs": [
    {
     "data": {
      "text/plain": [
       "4"
      ]
     },
     "execution_count": 26,
     "metadata": {},
     "output_type": "execute_result"
    }
   ],
   "source": [
    "8 if False else 4"
   ]
  }
 ],
 "metadata": {
  "kernelspec": {
   "display_name": "molecyle",
   "language": "python",
   "name": "python3"
  },
  "language_info": {
   "codemirror_mode": {
    "name": "ipython",
    "version": 3
   },
   "file_extension": ".py",
   "mimetype": "text/x-python",
   "name": "python",
   "nbconvert_exporter": "python",
   "pygments_lexer": "ipython3",
   "version": "3.6.13"
  }
 },
 "nbformat": 4,
 "nbformat_minor": 2
}
